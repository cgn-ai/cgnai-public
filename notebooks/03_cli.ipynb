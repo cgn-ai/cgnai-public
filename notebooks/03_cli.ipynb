{
 "cells": [
  {
   "cell_type": "markdown",
   "id": "e1f75ff3",
   "metadata": {},
   "source": [
    "# CLI - Command line interface\n",
    "\n",
    "> `cgnai_*` commands"
   ]
  },
  {
   "cell_type": "code",
   "execution_count": null,
   "id": "1abf5e6c",
   "metadata": {},
   "outputs": [],
   "source": [
    "%load_ext autoreload\n",
    "%autoreload 2\n",
    "%matplotlib inline"
   ]
  },
  {
   "cell_type": "code",
   "execution_count": null,
   "id": "f8be0e9b",
   "metadata": {},
   "outputs": [],
   "source": [
    "#|default_exp cli\n",
    "#|export\n",
    "from pathlib import Path\n",
    "\n",
    "from os import walk, getcwd\n",
    "import subprocess\n",
    "import cgnai\n",
    "import sys\n",
    "from cgnai import cgnai_home\n",
    "from cgnai.utils import time_stamp, run_bash"
   ]
  },
  {
   "cell_type": "code",
   "execution_count": null,
   "id": "3ae7ea59",
   "metadata": {},
   "outputs": [],
   "source": [
    "#|export\n",
    "import logging\n",
    "\n",
    "logger = logging.getLogger(\"cgnai.cli\")\n",
    "log = logger.info"
   ]
  },
  {
   "cell_type": "code",
   "execution_count": null,
   "id": "c59e78a0",
   "metadata": {},
   "outputs": [],
   "source": [
    "#|export\n",
    "CGNAI_HOME = cgnai_home()        \n",
    "def cgnai_hooks(hooks_dir=CGNAI_HOME/\"hooks\"):\n",
    "    hooks    = str(hooks_dir/\"*\")\n",
    "    githooks = str(CGNAI_HOME/'.git'/'hooks')\n",
    "    \n",
    "    log(\"copying ./hooks to .git/hooks\")\n",
    "    run_bash(f\"cp {hooks} {githooks};\")\n",
    "    run_bash(f\"chmod +x {githooks}/*;\")"
   ]
  },
  {
   "cell_type": "code",
   "execution_count": null,
   "id": "ff5661d1",
   "metadata": {},
   "outputs": [],
   "source": [
    "#|export\n",
    "def cgnai_init(hooks_dir=\"./hooks\"):\n",
    "    pass"
   ]
  },
  {
   "cell_type": "code",
   "execution_count": null,
   "id": "e96d543c",
   "metadata": {},
   "outputs": [],
   "source": [
    "#|export\n",
    "def cgnai_clean():\n",
    "    cmd = \"git diff --name-only --cached\"\n",
    "    staged = run_bash(cmd)\n",
    "    for f in staged:\n",
    "        if f.endswith(\".ipynb\"):\n",
    "            f = cgnai_home()/f\n",
    "            run_bash(f\"nbdev_clean --fname {f}\") # ...{f} --clear_all\")\n",
    "            run_bash(f\"git add {f}\")"
   ]
  },
  {
   "cell_type": "code",
   "execution_count": null,
   "id": "7fa24d01",
   "metadata": {},
   "outputs": [],
   "source": [
    "cgnai_clean()"
   ]
  }
 ],
 "metadata": {
  "kernelspec": {
   "display_name": "Python 3",
   "language": "python",
   "name": "python3"
  }
 },
 "nbformat": 4,
 "nbformat_minor": 5
}
