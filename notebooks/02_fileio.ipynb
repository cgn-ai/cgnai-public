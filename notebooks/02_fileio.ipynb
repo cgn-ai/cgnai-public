{
 "cells": [
  {
   "cell_type": "markdown",
   "id": "e1f75ff3",
   "metadata": {},
   "source": [
    "# File IO\n",
    "\n",
    "> Saving and loading data."
   ]
  },
  {
   "cell_type": "code",
   "execution_count": null,
   "id": "1abf5e6c",
   "metadata": {},
   "outputs": [],
   "source": [
    "%load_ext autoreload\n",
    "%autoreload 2\n",
    "%matplotlib inline"
   ]
  },
  {
   "cell_type": "code",
   "execution_count": null,
   "id": "f8be0e9b",
   "metadata": {},
   "outputs": [],
   "source": [
    "#|default_exp fileio\n",
    "#|export\n",
    "import pathlib\n",
    "import yaml\n",
    "import json\n",
    "import pickle\n",
    "from pathlib import Path\n",
    "from os import walk\n",
    "import numpy as np\n",
    "import csv\n",
    "from cgnai.utils import listmap, Bunch\n",
    "import cgnai\n",
    "Path = pathlib.Path"
   ]
  },
  {
   "cell_type": "code",
   "execution_count": null,
   "id": "958d6a41",
   "metadata": {},
   "outputs": [],
   "source": [
    "#|export\n",
    "def ls_bash(path=\"./\", absolute=False):\n",
    "    path = Path(path)\n",
    "    f = []\n",
    "    d = []\n",
    "    for (dirpath, dirnames, filenames) in walk(path):\n",
    "        dirnames  = listmap(Path, dirnames)\n",
    "        if absolute:\n",
    "            filenames = listmap(lambda n: path/n, filenames)\n",
    "            dirname   = listmap(lambda n: path/n, dirnames)\n",
    "            \n",
    "        f.extend(filenames)\n",
    "        d.extend(dirnames)\n",
    "        \n",
    "        break\n",
    "\n",
    "    return Bunch(path=path, files=sorted(f), dirs=sorted(d), folders=sorted(d))\n",
    "\n",
    "ls = ls_bash"
   ]
  },
  {
   "cell_type": "code",
   "execution_count": null,
   "id": "40176c26",
   "metadata": {},
   "outputs": [],
   "source": [
    "ls_bash()"
   ]
  },
  {
   "cell_type": "code",
   "execution_count": null,
   "id": "ff0a8696",
   "metadata": {},
   "outputs": [],
   "source": [
    "ls_bash(\"./\", absolute=True)"
   ]
  },
  {
   "cell_type": "code",
   "execution_count": null,
   "id": "c884e239",
   "metadata": {},
   "outputs": [],
   "source": [
    "#|export\n",
    "def save(obj, fname):\n",
    "    \"\"\"\n",
    "    Saves an object to a file.\n",
    "    \n",
    "    Supported formats are `.yaml`, `.json`, `.npy`, `.npz`\n",
    "    and everything else will be \"pickled\".\n",
    "    \"\"\"\n",
    "\n",
    "    p = Path(fname)\n",
    "    name   = p.stem\n",
    "    format = p.suffix\n",
    "\n",
    "    if format==\".yaml\":\n",
    "        with open(p, 'w') as f:\n",
    "            yaml.dump(obj, f,\n",
    "                allow_unicode=True,\n",
    "                sort_keys=False,\n",
    "                indent=4,\n",
    "                explicit_start=True)\n",
    "\n",
    "    elif format==\".json\":\n",
    "        with open(p, 'w') as f:\n",
    "            json.dump(obj, f,\n",
    "                        indent=4)\n",
    "\n",
    "    elif format==\".npy\" or format==\".npz\":\n",
    "        np.save(p, obj)\n",
    "\n",
    "    else:\n",
    "        with open(p, 'wb') as f:\n",
    "            pickle.dump(obj, f)"
   ]
  },
  {
   "cell_type": "code",
   "execution_count": null,
   "id": "d1c928fd",
   "metadata": {},
   "outputs": [],
   "source": [
    "#|export\n",
    "def dump(obj, fname): \n",
    "    \"\"\"Dumps an object to file.\"\"\" \n",
    "    return save(obj, fname)"
   ]
  },
  {
   "cell_type": "code",
   "execution_count": null,
   "id": "38196874",
   "metadata": {},
   "outputs": [],
   "source": [
    "#|export\n",
    "def load(fname, format=None):\n",
    "    \n",
    "    p = Path(fname)\n",
    "    name   = p.stem\n",
    "    \n",
    "    if format is None:\n",
    "        format = p.suffix\n",
    "            \n",
    "    if format==\".yaml\":\n",
    "        with open(p, 'r') as f:\n",
    "            return yaml.load(f, Loader=yaml.FullLoader)\n",
    "\n",
    "    elif format==\".json\":\n",
    "        with open(p, 'r') as f:\n",
    "            return json.load(f)\n",
    "\n",
    "    elif format==\".npy\" or format==\".npz\":\n",
    "        return np.load(p)\n",
    "\n",
    "    elif format==\".txt\":\n",
    "        with open(p, 'r') as f:\n",
    "            lines = f.read().split('\\n')\n",
    "            return lines\n",
    "    \n",
    "    elif format==\".pkl\":\n",
    "        with open(p, 'rb') as f:\n",
    "            return pickle.load(f)\n",
    "        \n",
    "    elif format==\".tsv\":\n",
    "        with open(p) as f:\n",
    "            X = csv.reader(f, delimiter=\"\\t\", quotechar='\"')\n",
    "            return [x for x in X]\n",
    "    \n",
    "    elif format==\".csv\":\n",
    "        with open(p) as f:\n",
    "            X = csv.reader(f, delimiter=\",\", quotechar='\"')            \n",
    "            return [x for x in X]\n",
    "                \n",
    "    else:\n",
    "        supported = [\".yaml\", \".json\", \".npy\", \".npz\", \".txt\", \".pkl\", \".tsv\", \".csv\"]\n",
    "        raise ValueError(f\"Document type not supported: should be one of the following: \\n\\t{supported}\")\n",
    "        \n",
    "    "
   ]
  },
  {
   "cell_type": "code",
   "execution_count": null,
   "id": "1c9ae394",
   "metadata": {},
   "outputs": [],
   "source": [
    "arr = np.random.rand(10)\n",
    "dump(arr, \"_temp/numpy.npy\")\n",
    "assert np.any(load(\"_temp/numpy.npy\") == arr, None)\n",
    "!rm \"_temp/numpy.npy\""
   ]
  },
  {
   "cell_type": "code",
   "execution_count": null,
   "id": "101ef628",
   "metadata": {},
   "outputs": [],
   "source": [
    "def find_config_file(cfg_name=CGNAI_CONFIG):\n",
    "    cfg_path = Path.cwd()\n",
    "    while cfg_path != cfg_path.parent and not (cfg_path/cfg_name).exists(): cfg_path = cfg_path.parent\n",
    "    fname = cfg_path/cfg_name\n",
    "    return fname"
   ]
  },
  {
   "cell_type": "code",
   "execution_count": null,
   "id": "63585c6f",
   "metadata": {},
   "outputs": [],
   "source": [
    "CGNAI_CONFIG = 'config.yaml'\n",
    "\n",
    "def get_config(cfg_name=CGNAI_CONFIG):\n",
    "    cfg_path = Path.cwd()\n",
    "    while cfg_path != cfg_path.parent and not (cfg_path/cfg_name).exists(): cfg_path = cfg_path.parent\n",
    "    fname = cfg_path/cfg_name\n",
    "    return load(fname)"
   ]
  },
  {
   "cell_type": "code",
   "execution_count": null,
   "id": "d5e92912",
   "metadata": {},
   "outputs": [],
   "source": [
    "def set_config(cfg, cfg_name=CGNAI_CONFIG):\n",
    "    fname = find_config_file(cfg_name)    \n",
    "    cfg   = save(fname)\n",
    "    return cfg"
   ]
  },
  {
   "cell_type": "code",
   "execution_count": null,
   "id": "af6e4605",
   "metadata": {},
   "outputs": [],
   "source": [
    "import os\n",
    "import configparser\n",
    "def cgnai_config(config_name=\"config.ini\"):\n",
    "    p = Path(os.path.dirname(os.path.realpath(__file__))) \n",
    "    cgnai_wd = p.parents[0]\n",
    "    c = cgnai_wd/config_name\n",
    "    \n",
    "    config = configparser.ConfigParser()    \n",
    "    try:\n",
    "        config.read(c)\n",
    "    except:\n",
    "        pass\n",
    "    \n",
    "    return config\n",
    "    \n"
   ]
  },
  {
   "cell_type": "code",
   "execution_count": null,
   "id": "98a20fd9",
   "metadata": {},
   "outputs": [],
   "source": [
    "def cgnai_set(nested_key, value, config_name=\"config.ini\"):\n",
    "    p = Path(os.path.dirname(os.path.realpath(__file__))) \n",
    "    cgnaiwd = p.parents[0]\n",
    "    c = cgnaiwd/config_name\n",
    "    c.touch()\n",
    "    \n",
    "    try:\n",
    "        section, key = nested_key.split(\":\")\n",
    "    except:\n",
    "        section, key = \"OTHER\", nested_key\n",
    "\n",
    "    config = configparser.ConfigParser()\n",
    "    config.read(c)\n",
    "    if section not in config: config.add_section(section)\n",
    "        \n",
    "    config.set(section, key, value)\n",
    "\n",
    "    with open(c, \"w\") as f: config.write(f)"
   ]
  },
  {
   "cell_type": "code",
   "execution_count": null,
   "id": "d660f3a6",
   "metadata": {},
   "outputs": [],
   "source": [
    "def cgnai_get(nested_key, cfg_name=\"config.ini\"):\n",
    "    p = Path(os.path.dirname(os.path.realpath(__file__))) \n",
    "    cgnaiwd = p.parents[0]\n",
    "    c = cgnaiwd/config_name\n",
    "    try:\n",
    "        section, key = nested_key.split(\":\")\n",
    "    except:\n",
    "        section, key = \"OTHER\", nested_key\n",
    "\n",
    "    config = configparser.ConfigParser()\n",
    "    config.read(c)\n",
    "    return config.get(section, key)"
   ]
  },
  {
   "cell_type": "code",
   "execution_count": null,
   "id": "c077d17f",
   "metadata": {},
   "outputs": [],
   "source": [
    "def cgnai_del(nested_key, config_name=\"config.ini\"):\n",
    "    p = Path(os.path.dirname(os.path.realpath(__file__))) \n",
    "    cgnaiwd = p.parents[0]\n",
    "    c = cgnaiwd/config_name\n",
    "    \n",
    "    try:\n",
    "        section, key = nested_key.split(\":\")\n",
    "    except:\n",
    "        section, key = \"OTHER\", nested_key\n",
    "        \n",
    "        \n",
    "    \n",
    "    config = configparser.ConfigParser()\n",
    "    config.read(c)    \n",
    "    \n",
    "    \n",
    "    if section in config:\n",
    "        if key in config[section]: \n",
    "            del config[section][key]\n",
    "            \n",
    "        if len(config[section]) == 0: \n",
    "            del config[section]\n",
    "\n",
    "    with open(c, \"w\") as f: config.write(f)"
   ]
  },
  {
   "cell_type": "code",
   "execution_count": null,
   "id": "38bbf04d",
   "metadata": {},
   "outputs": [],
   "source": [
    "def cgnai_shared(cfg_name=\"config.ini\"):\n",
    "    \"\"\"Grabs the path to the shared data foldser from `config.ini`\"\"\"\n",
    "    cfg_path = Path.cwd()\n",
    "    while cfg_path != cfg_path.parent and not (cfg_path/cfg_name).exists(): cfg_path = cfg_path.parent\n",
    "    config = configparser.ConfigParser()\n",
    "    config.read(cfg_path/cfg_name)\n",
    "    return Path(config[\"DATA\"][\"shared\"])"
   ]
  },
  {
   "cell_type": "code",
   "execution_count": null,
   "id": "5c636ccd",
   "metadata": {},
   "outputs": [],
   "source": [
    "cgnai_shared(cfg_name=\"config.ini\")"
   ]
  },
  {
   "cell_type": "code",
   "execution_count": null,
   "id": "ab5b68cb",
   "metadata": {},
   "outputs": [],
   "source": [
    "def cgnai_local(cfg_name=\"config.ini\"):\n",
    "    \"\"\"Grabs the path to the local data folder from `config.ini`\"\"\"\n",
    "    cfg_path = Path.cwd()\n",
    "    while cfg_path != cfg_path.parent and not (cfg_path/cfg_name).exists(): cfg_path = cfg_path.parent\n",
    "    config = configparser.ConfigParser()\n",
    "    config.read(cfg_path/cfg_name)\n",
    "    return Path(config[\"DATA\"][\"local\"])"
   ]
  },
  {
   "cell_type": "code",
   "execution_count": null,
   "id": "c59e78a0",
   "metadata": {},
   "outputs": [],
   "source": [
    "cgnai_local(cfg_name=\"config.ini\")"
   ]
  },
  {
   "cell_type": "code",
   "execution_count": null,
   "id": "ff5661d1",
   "metadata": {},
   "outputs": [],
   "source": []
  },
  {
   "cell_type": "code",
   "execution_count": null,
   "id": "b4b33d1a",
   "metadata": {},
   "outputs": [],
   "source": []
  }
 ],
 "metadata": {
  "kernelspec": {
   "display_name": "Python 3",
   "language": "python",
   "name": "python3"
  },
  "language_info": {
   "codemirror_mode": {
    "name": "ipython",
    "version": 3
   },
   "file_extension": ".py",
   "mimetype": "text/x-python",
   "name": "python",
   "nbconvert_exporter": "python",
   "pygments_lexer": "ipython3",
   "version": "3.8.10"
  }
 },
 "nbformat": 4,
 "nbformat_minor": 5
}
