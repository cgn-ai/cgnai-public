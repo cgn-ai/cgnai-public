{
 "cells": [
  {
   "cell_type": "markdown",
   "id": "bf7fde17",
   "metadata": {},
   "source": [
    "# Audio - Super Pixels"
   ]
  },
  {
   "cell_type": "code",
   "execution_count": null,
   "id": "ba16fc2d",
   "metadata": {},
   "outputs": [],
   "source": [
    "%load_ext autoreload\n",
    "%autoreload 2\n",
    "%matplotlib inline"
   ]
  },
  {
   "cell_type": "code",
   "execution_count": null,
   "id": "6460ee31",
   "metadata": {},
   "outputs": [],
   "source": [
    "#|default_exp audio.superpixels\n",
    "#|export\n",
    "import cgnai\n",
    "from pathlib import Path\n",
    "import sys\n",
    "from cgnai.logging import cgnai_logger\n",
    "import numpy as np\n",
    "from cgnai.fileio import ls, load\n",
    "\n",
    "logger = cgnai_logger(\"superpixels\")\n",
    "log = logger.info"
   ]
  },
  {
   "cell_type": "markdown",
   "id": "2c6287d8",
   "metadata": {},
   "source": [
    "## Load Sample Data"
   ]
  },
  {
   "cell_type": "code",
   "execution_count": null,
   "id": "3247af58",
   "metadata": {},
   "outputs": [],
   "source": [
    "from cgnai.utils import cgnai_home\n",
    "from cgnai.fileio import ls, load\n",
    "\n",
    "data_path = cgnai_home() / \"shared/podverse/data/dlf_politik_podcast/\"\n",
    "files = [f for f in ls(data_path).files if str(f).endswith(\".mp3\")]\n",
    "len(files)"
   ]
  },
  {
   "cell_type": "code",
   "execution_count": null,
   "id": "8fdcc13f",
   "metadata": {},
   "outputs": [],
   "source": [
    "from cgnai.audio.embeddings import load_embedding\n",
    "\n",
    "emb = load_embedding(str(data_path / files[126]))\n",
    "d=emb@emb.T"
   ]
  },
  {
   "cell_type": "code",
   "execution_count": null,
   "id": "ec9a3211",
   "metadata": {},
   "outputs": [],
   "source": [
    "from matplotlib import pyplot as plt\n",
    "\n",
    "plt.hist(d.flatten(), bins=200);"
   ]
  },
  {
   "cell_type": "code",
   "execution_count": null,
   "id": "0e85003d",
   "metadata": {},
   "outputs": [],
   "source": [
    "from scipy.stats import norm\n",
    "from sklearn.mixture import GaussianMixture\n",
    "from IPython.display import display, Math\n",
    "\n",
    "gm = GaussianMixture(n_components=2, random_state=0).fit(d.reshape(-1, 1))\n",
    "\n",
    "mean = gm.means_  \n",
    "covs  = gm.covariances_\n",
    "weights = gm.weights_\n",
    "\n",
    "x_axis = np.arange(-0.25, 1, 0.01)\n",
    "y_axis0 = norm.pdf(x_axis, float(mean[0][0]), np.sqrt(float(covs[0][0][0])))*weights[0] # 1st gaussian\n",
    "y_axis1 = norm.pdf(x_axis, float(mean[1][0]), np.sqrt(float(covs[1][0][0])))*weights[1] # 2nd gaussian\n",
    "\n",
    "\n",
    "plt.hist(d.flatten(), density=True, color='black', bins=100)\n",
    "plt.plot(x_axis, y_axis0, lw=3, c='C0')\n",
    "plt.plot(x_axis, y_axis1, lw=3, c='C1')\n",
    "plt.plot(x_axis, y_axis0+y_axis1, lw=3, c='C2', ls='dashed')\n",
    "plt.xlim(-0.25, 1)\n",
    "\n",
    "display(Math(r'\\mu_1: {} \\\\ \\sigma_1: {} \\\\ \\mu_2: {} \\\\ \\sigma_2: {}'.format(mean[0][0], covs[0][0][0],mean[1][0], covs[1][0][0])))"
   ]
  },
  {
   "cell_type": "markdown",
   "id": "9b0d2f0e",
   "metadata": {},
   "source": [
    "# Super Pixels"
   ]
  },
  {
   "cell_type": "code",
   "execution_count": null,
   "id": "10f1bc6b",
   "metadata": {},
   "outputs": [],
   "source": [
    "#|export\n",
    "def var(i, j, d, var_cache=None):\n",
    "    \"\"\"\n",
    "    calculates the mean variance between indices i and j\n",
    "    \"\"\"\n",
    "    if (i,j) in var_cache:\n",
    "        return var_cache[(i,j)]\n",
    "    if i != j:\n",
    "        x = d[i:j].var(axis=0)\n",
    "        n = round(d.shape[1]*0.2)\n",
    "        d_=np.mean(np.sort(x)[-n])\n",
    "    else:\n",
    "        d_ = 0.0\n",
    "    var_cache[(i,j)] = d_\n",
    "    return d_\n",
    "\n",
    "def n_active(I_):\n",
    "    \"\"\"\n",
    "    counts the number of active pixels in I\n",
    "    \"\"\"\n",
    "    assert len(I_) > 1\n",
    "    return sum([1 for i in range(0,len(I_)-1) if I_[i+1] != I_[i]])\n",
    "\n",
    "def v_(I_, d, var_cache=None):\n",
    "    return [var(I_[i],I_[i+1], d, var_cache) for i in range(0,len(I_)-1)]\n",
    "\n",
    "def variance(I_, d, var_cache=None):\n",
    "    return sum(v_(I_,d, var_cache))\n",
    "\n",
    "def mean_variance(I_, d, var_cache=None):\n",
    "    return sum(v_(I_,d, var_cache)) / n_active(I_)\n",
    "\n",
    "def energy(I_, d, mu, var_cache=None):\n",
    "    assert mu > 0\n",
    "    return variance(I_, d, var_cache) + mu * n_active(I_)"
   ]
  },
  {
   "cell_type": "code",
   "execution_count": null,
   "id": "cccc9d65",
   "metadata": {},
   "outputs": [],
   "source": [
    "#|export\n",
    "def find_super_pixels(d, N0=900, mu=0.0005, min_pixels_per_min=4, step=1, I0=None):\n",
    "    var_cache = {}\n",
    "    T = d.shape[0]\n",
    "    I = [round(x) for x in np.linspace(0,T,N0)]\n",
    "    min_pixels = round(T / 60 * min_pixels_per_min)\n",
    "    log(f\"min_pixels: {min_pixels}\")\n",
    "    n_updates = 1\n",
    "    if I0 is not None:\n",
    "        I = I0\n",
    "    while n_updates > 0:\n",
    "        n_updates = 0\n",
    "        \n",
    "        for i in range(1,len(I)-1):\n",
    "            #i = np.random.randint(1,len(I)-1)\n",
    "            # ---o-----o----o---\n",
    "            #   x_L   x_1  x_R\n",
    "            \n",
    "            x_L = I[i-1]\n",
    "            x_1 = I[i]\n",
    "            x_R = I[i+1]\n",
    "\n",
    "            e = energy([x_L, x_1, x_R], d, mu, var_cache)\n",
    "            for x_1_ in range(x_L, x_R+1, step):\n",
    "                    e_ = energy([x_L, x_1_, x_R], d, mu, var_cache)\n",
    "                    if e_ < e:\n",
    "                        e = e_\n",
    "                        I[i] = x_1_\n",
    "                        n_updates += 1\n",
    "        \n",
    "        to_delete = []\n",
    "        for i in range(len(I)-2, -1, -1):\n",
    "            if I[i] == I[i+1]:\n",
    "                to_delete.append(i+1)\n",
    "        for j in to_delete:\n",
    "            del I[j]\n",
    "        if len(I) < min_pixels:\n",
    "            log(\"NOT CONVERGED\")\n",
    "            break\n",
    "    return I"
   ]
  },
  {
   "cell_type": "code",
   "execution_count": null,
   "id": "fd69fbb5-2c3b-48e9-ab46-8f07f65c409c",
   "metadata": {},
   "outputs": [],
   "source": [
    "#|export\n",
    "def load_super_pixels(mp3_path):\n",
    "    return load(str(mp3_path) + \"_super_pixels.npy\")"
   ]
  },
  {
   "cell_type": "code",
   "execution_count": null,
   "id": "5fac71fe",
   "metadata": {},
   "outputs": [],
   "source": [
    "#|export\n",
    "from matplotlib import pyplot as plt\n",
    "import matplotlib.patches as patches\n",
    "\n",
    "def plot_super_pixels(I, d, x_min=None, x_max=None, mu=None, N0=None, N=None):\n",
    "    fig, ax = plt.subplots(figsize=(10,10))\n",
    "    plt.title(f'N:{n_active(I)}')\n",
    "    if x_min is None:\n",
    "        x_min = 0\n",
    "    if x_max is None:\n",
    "        x_max = d.shape[0]\n",
    "    ax.set_xlim(x_min,x_max)\n",
    "    ax.set_ylim(x_max,x_min)\n",
    "    ax.imshow(d, interpolation=\"none\")\n",
    "    for i in range(0,len(I)-1):\n",
    "        ax.add_patch(patches.Rectangle((I[i], I[i]),I[i+1]-I[i], I[i+1]-I[i], linewidth=1, edgecolor='r', facecolor='none'))\n",
    "    return fig"
   ]
  },
  {
   "cell_type": "code",
   "execution_count": null,
   "id": "70e59f05",
   "metadata": {},
   "outputs": [],
   "source": [
    "N0 = round(20 * d.shape[0]/60)\n",
    "I = find_super_pixels(d, N0=N0, mu=0.0001, min_pixels_per_min=2)\n",
    "plot_super_pixels(I,d);"
   ]
  },
  {
   "cell_type": "code",
   "execution_count": null,
   "id": "1186e3c8",
   "metadata": {},
   "outputs": [],
   "source": [
    "plot_super_pixels(I,d);"
   ]
  }
 ],
 "metadata": {
  "kernelspec": {
   "display_name": "Python 3",
   "language": "python",
   "name": "python3"
  }
 },
 "nbformat": 4,
 "nbformat_minor": 5
}
