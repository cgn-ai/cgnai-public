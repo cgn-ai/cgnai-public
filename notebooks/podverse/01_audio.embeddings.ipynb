{
 "cells": [
  {
   "cell_type": "markdown",
   "id": "1cc7c2f4",
   "metadata": {},
   "source": [
    "# Audio Embeddings\n",
    "\n",
    "- uses [pyannote/embedding](https://huggingface.co/pyannote/embedding) to generate x-vectors for wave forms"
   ]
  },
  {
   "cell_type": "code",
   "execution_count": null,
   "id": "5dca6894",
   "metadata": {},
   "outputs": [
    {
     "name": "stdout",
     "output_type": "stream",
     "text": [
      "The autoreload extension is already loaded. To reload it, use:\n",
      "  %reload_ext autoreload\n"
     ]
    }
   ],
   "source": [
    "%load_ext autoreload\n",
    "%autoreload 2\n",
    "%matplotlib inline"
   ]
  },
  {
   "cell_type": "code",
   "execution_count": null,
   "id": "99318a85",
   "metadata": {},
   "outputs": [],
   "source": [
    "#|default_exp audio.embeddings\n",
    "#|export\n",
    "import cgnai\n",
    "from pathlib import Path\n",
    "import sys\n",
    "from cgnai.logging import cgnai_logger\n",
    "import numpy as np\n",
    "from cgnai.fileio import ls, load\n",
    "\n",
    "logger = cgnai_logger(\"embeddings\")\n",
    "log = logger.info"
   ]
  },
  {
   "cell_type": "code",
   "execution_count": null,
   "id": "8b2700fc",
   "metadata": {},
   "outputs": [],
   "source": [
    "#|export\n",
    "from pyannote.audio import Inference\n",
    "\n",
    "embedding_models = {}\n",
    "\n",
    "def get_embedding_model(duration:float = 4.0, step:float = 1.0, device=\"cuda\"):\n",
    "    if (duration, step, device) not in embedding_models:\n",
    "        embedding_models[(duration, step, device)] = Inference(\"pyannote/embedding\",\n",
    "                                                       window=\"sliding\",\n",
    "                                                       duration=duration,\n",
    "                                                       step=step,\n",
    "                                                       device=device)\n",
    "    return embedding_models[(duration, step, device)]"
   ]
  },
  {
   "cell_type": "code",
   "execution_count": null,
   "id": "4fba8dfe",
   "metadata": {},
   "outputs": [],
   "source": [
    "#|export\n",
    "def get_embedding(wav, rate, duration:float = 4.0, step:float = 1.0, device=\"cuda\"):\n",
    "    model = get_embedding_model(duration, step, device)\n",
    "    embeddings = model({'waveform': wav, \"sample_rate\": rate}).data\n",
    "    return embeddings"
   ]
  },
  {
   "cell_type": "code",
   "execution_count": null,
   "id": "1f10dee5",
   "metadata": {},
   "outputs": [],
   "source": [
    "#|export\n",
    "def load_embedding(mp3_path):\n",
    "    emb = load(str(mp3_path) + \"_emb.npy\")\n",
    "    return emb/(np.linalg.norm(emb, axis=1,keepdims=True))"
   ]
  },
  {
   "cell_type": "code",
   "execution_count": null,
   "id": "ce74b882",
   "metadata": {},
   "outputs": [],
   "source": [
    "from cgnai.utils import cgnai_home\n",
    "from cgnai.fileio import ls, load\n",
    "import torchaudio\n",
    "\n",
    "model = get_embedding_model()\n",
    "data_path = cgnai_home() / \"shared/podverse/data/dlf_politik_podcast/\"\n",
    "files = [f for f in ls(data_path).files if str(f).endswith(\".mp3\")]\n",
    "torchaudio.set_audio_backend(\"sox_io\")\n",
    "wav, sr = torchaudio.load(data_path / files[0], format=\"mp3\")\n",
    "emb=get_embedding(wav[:], sr)\n",
    "emb.shape"
   ]
  },
  {
   "cell_type": "code",
   "execution_count": null,
   "id": "74aaa45d-44cf-4a47-9f56-fb18735bae67",
   "metadata": {},
   "outputs": [],
   "source": []
  }
 ],
 "metadata": {
  "kernelspec": {
   "display_name": "Python 3",
   "language": "python",
   "name": "python3"
  }
 },
 "nbformat": 4,
 "nbformat_minor": 5
}
