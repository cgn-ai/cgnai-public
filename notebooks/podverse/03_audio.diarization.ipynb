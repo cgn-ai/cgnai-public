{
 "cells": [
  {
   "cell_type": "markdown",
   "id": "7b67646b",
   "metadata": {},
   "source": [
    "# Audio - Diarization"
   ]
  },
  {
   "cell_type": "code",
   "execution_count": null,
   "id": "f1799169",
   "metadata": {},
   "outputs": [],
   "source": [
    "%load_ext autoreload\n",
    "%autoreload 2\n",
    "%matplotlib inline"
   ]
  },
  {
   "cell_type": "code",
   "execution_count": null,
   "id": "e40edbbc",
   "metadata": {},
   "outputs": [],
   "source": [
    "#|default_exp audio.diarization\n",
    "#|export\n",
    "import cgnai\n",
    "from pathlib import Path\n",
    "import sys\n",
    "from cgnai.logging import cgnai_logger\n",
    "import numpy as np\n",
    "from cgnai.fileio import ls, load\n",
    "\n",
    "logger = cgnai_logger(\"diarization\")\n",
    "log = logger.info"
   ]
  },
  {
   "cell_type": "markdown",
   "id": "7d84d2ad",
   "metadata": {},
   "source": [
    "## Load Sample Data"
   ]
  },
  {
   "cell_type": "code",
   "execution_count": null,
   "id": "1381b852",
   "metadata": {},
   "outputs": [],
   "source": [
    "from cgnai.utils import cgnai_home\n",
    "from cgnai.fileio import ls, load\n",
    "from cgnai.audio.superpixels import find_super_pixels, plot_super_pixels\n",
    "from cgnai.audio.embeddings import load_embedding"
   ]
  },
  {
   "cell_type": "code",
   "execution_count": null,
   "id": "96ec8f31",
   "metadata": {},
   "outputs": [],
   "source": [
    "data_path = cgnai_home() / \"shared/podverse/data/dlf_politik_podcast/\"\n",
    "files = [f for f in ls(data_path).files if str(f).endswith(\".mp3\")]\n",
    "print(len(files))\n",
    "emb = load_embedding(str(data_path / files[0]))\n",
    "d=emb@emb.T\n",
    "I = find_super_pixels(d)\n",
    "plot_super_pixels(I,d)"
   ]
  },
  {
   "cell_type": "markdown",
   "id": "74201c0c",
   "metadata": {},
   "source": [
    "## Diarization"
   ]
  },
  {
   "cell_type": "code",
   "execution_count": null,
   "id": "ed8973a9",
   "metadata": {},
   "outputs": [],
   "source": [
    "#|export\n",
    "def get_superpixel_sim_matrix(d, I):\n",
    "    N = len(I) - 1\n",
    "    M = np.zeros((N, N))\n",
    "    for i in range (0,N):\n",
    "        for j in range(i, N):\n",
    "            M[i,j] = M[j,i] = np.mean(d[I[i]:I[i+1],I[j]:I[j+1]])\n",
    "    return M"
   ]
  },
  {
   "cell_type": "code",
   "execution_count": null,
   "id": "0f6d6f8d",
   "metadata": {},
   "outputs": [],
   "source": [
    "import matplotlib.pyplot as plt\n",
    "\n",
    "M = get_superpixel_sim_matrix(d, I)\n",
    "plt.imshow(M, interpolation=\"None\")\n",
    "plt.show()"
   ]
  },
  {
   "cell_type": "code",
   "execution_count": null,
   "id": "039060aa",
   "metadata": {},
   "outputs": [],
   "source": [
    "#|export\n",
    "def inflate_superpixel_sim_matrix(M, I):\n",
    "    T = I[-1]\n",
    "    N = len(I) - 1\n",
    "    d = np.zeros((T, T))\n",
    "    for i in range (0,N):\n",
    "        for j in range(i, N):\n",
    "            d[I[i]:I[i+1], I[j]:I[j+1]] = M[i,j]\n",
    "            d[I[j]:I[j+1], I[i]:I[i+1]] = M[i,j]\n",
    "    return d"
   ]
  },
  {
   "cell_type": "code",
   "execution_count": null,
   "id": "cd34938f",
   "metadata": {},
   "outputs": [],
   "source": [
    "d_ = inflate_superpixel_sim_matrix(M, I)\n",
    "\n",
    "plt.imshow(d_, interpolation=\"None\")\n",
    "plt.colorbar()\n",
    "plt.show()"
   ]
  },
  {
   "cell_type": "code",
   "execution_count": null,
   "id": "4bda4e10",
   "metadata": {},
   "outputs": [],
   "source": [
    "fig, axs = plt.subplots(1,2)\n",
    "fig.tight_layout()\n",
    "axs[0].set_title('M => d')\n",
    "axs[0].imshow(d_, interpolation=\"None\")\n",
    "axs[1].set_title('d')\n",
    "axs[1].imshow(d, interpolation=\"None\")\n",
    "fig.show()"
   ]
  },
  {
   "cell_type": "code",
   "execution_count": null,
   "id": "8151a980",
   "metadata": {},
   "outputs": [],
   "source": [
    "#|export\n",
    "def remap_ids(ids):\n",
    "    unique_ids = list(ids[np.sort(np.unique(ids, return_index=True)[1])])\n",
    "    return np.array([unique_ids.index(id) for id in ids ])"
   ]
  },
  {
   "cell_type": "code",
   "execution_count": null,
   "id": "87f9accf",
   "metadata": {},
   "outputs": [],
   "source": [
    "#|export\n",
    "import math\n",
    "\n",
    "def optimize_labels(M, I, max_speaker=6, mu_same=0.55, mu_diff=0.15, sigma=0.1):\n",
    "    N = len(I) - 1\n",
    "    ids = np.random.randint(0, max_speaker, N)\n",
    "    \n",
    "    # precompute sigmas\n",
    "    sigma_sq = np.zeros((N, N))\n",
    "    for i in range(0, N):\n",
    "        l_i = I[i+1] - I[i]\n",
    "        for j in range(i, N):\n",
    "            l_j = I[j+1] - I[j]\n",
    "            sigma_sq[i, j] = sigma_sq[j, i] = sigma * sigma / (math.sqrt(l_i) * math.sqrt(l_j))\n",
    "    \n",
    "    n_updates = 1\n",
    "    while n_updates > 0:\n",
    "        n_updates = 0\n",
    "        for i in range(0, N):\n",
    "            log_ps = []\n",
    "            for new_id_i in range(0, max_speaker):\n",
    "                log_p = 0\n",
    "                for j in range(0, N):\n",
    "                    l_j = I[j+1] - I[j] # size of ith super pixel\n",
    "                    mu = mu_same if new_id_i == ids[j] else mu_diff\n",
    "                    if i == j:\n",
    "                        mu = mu_same\n",
    "                    delta = M[i, j] - mu\n",
    "                    log_p += delta * delta / sigma_sq[i, j]\n",
    "                log_ps.append(log_p)\n",
    "            assert len(log_ps) == max_speaker\n",
    "            new_id_i = np.argmin(log_ps)\n",
    "            if new_id_i != ids[i]:\n",
    "                ids[i] = new_id_i\n",
    "                n_updates += 1\n",
    "        \n",
    "    log_p = 0\n",
    "    for i in range(0, N):\n",
    "        l_i = I[i+1] - I[i] # size of ith super pixel\n",
    "        for j in range(0, N):\n",
    "            l_j = I[j+1] - I[j] # size of ith super pixel\n",
    "            mu = mu_same if ids[i] == ids[j] else mu_diff\n",
    "            if i == j:\n",
    "                mu = mu_same\n",
    "            delta = M[i, j] - mu\n",
    "            log_p += delta * delta / sigma_sq[i, j]\n",
    "    return remap_ids(ids), log_p"
   ]
  },
  {
   "cell_type": "code",
   "execution_count": null,
   "id": "13e9c3d8",
   "metadata": {},
   "outputs": [],
   "source": [
    "#|export\n",
    "def make_speaker_map(I, ids):\n",
    "    T = I[-1]\n",
    "    N = len(I) - 1\n",
    "    d = np.zeros((T, T))\n",
    "    for i in range (0,N):\n",
    "        for j in range(i, N):\n",
    "            c = (ids[i] == ids[j]) * (1 + ids[i])\n",
    "            d[I[i]:I[i+1], I[j]:I[j+1]] = c\n",
    "            d[I[j]:I[j+1], I[i]:I[i+1]] = c\n",
    "    return d"
   ]
  },
  {
   "cell_type": "code",
   "execution_count": null,
   "id": "603f6800",
   "metadata": {},
   "outputs": [],
   "source": [
    "#|export\n",
    "def reconstruct_sim(I, ids, mu_same=0.5, mu_diff=0.15):\n",
    "    T = I[-1]\n",
    "    N = len(I) - 1\n",
    "    d = np.zeros((T, T))\n",
    "    for i in range (0,N):\n",
    "        for j in range(i, N):\n",
    "            c = mu_same if ids[i] == ids[j] else mu_diff\n",
    "            d[I[i]:I[i+1], I[j]:I[j+1]] = c\n",
    "            d[I[j]:I[j+1], I[i]:I[i+1]] = c\n",
    "    return d"
   ]
  },
  {
   "cell_type": "code",
   "execution_count": null,
   "id": "0967f94c",
   "metadata": {},
   "outputs": [],
   "source": [
    "best_ids=None\n",
    "min_logp=1e12\n",
    "max_logp=0\n",
    "\n",
    "for i in range(0,100):\n",
    "    ids,logp=optimize_labels(M, I, max_speaker=10)\n",
    "    if max_logp < logp:\n",
    "        max_logp = logp\n",
    "    if logp < min_logp:\n",
    "        min_logp = logp\n",
    "        best_ids=ids\n"
   ]
  },
  {
   "cell_type": "code",
   "execution_count": null,
   "id": "66b152e6",
   "metadata": {},
   "outputs": [],
   "source": [
    "#|export\n",
    "def get_speaker_timeline(ids, I):\n",
    "    T = I[-1]\n",
    "    N = len(I)-1\n",
    "    timeline = np.zeros((T))\n",
    "    for i in range(0, N):\n",
    "        timeline[I[i]:I[i+1]] = ids[i]\n",
    "    return timeline.astype(int)"
   ]
  },
  {
   "cell_type": "code",
   "execution_count": null,
   "id": "f71d293e",
   "metadata": {},
   "outputs": [],
   "source": [
    "from matplotlib import cm\n",
    "from matplotlib.colors import ListedColormap, LinearSegmentedColormap\n",
    "\n",
    "viridis = cm.get_cmap('tab10', 256)\n",
    "newcolors = viridis(np.linspace(0, 1, 256))\n",
    "white = np.array([1,1,1, 1])\n",
    "newcolors[:1, :] = white\n",
    "speaker_cm = ListedColormap(newcolors)"
   ]
  },
  {
   "cell_type": "code",
   "execution_count": null,
   "id": "fbf889e6",
   "metadata": {},
   "outputs": [],
   "source": [
    "print(f\"max_logp: {max_logp}\")\n",
    "print(f\"min_logp: {min_logp}\")\n",
    "plt.imshow(make_speaker_map(I, ids), interpolation=\"None\", cmap=speaker_cm)\n",
    "plt.show()"
   ]
  },
  {
   "cell_type": "code",
   "execution_count": null,
   "id": "5d6ae7e0",
   "metadata": {},
   "outputs": [],
   "source": [
    "# ---------->\n",
    "fig, axs = plt.subplots(1,4,figsize=(20,5))\n",
    "fig.tight_layout()\n",
    "axs[0].set_title('d')\n",
    "axs[0].imshow(d,vmin=0.15,vmax=0.55, interpolation=\"None\")\n",
    "axs[1].set_title('M => d')\n",
    "axs[1].imshow(inflate_superpixel_sim_matrix(M, I), vmin=0.15,vmax=0.55, interpolation=\"None\")\n",
    "axs[2].set_title('M - d')\n",
    "axs[2].imshow(inflate_superpixel_sim_matrix(M, I) - d, vmin=-0.1, vmax=0.1, cmap=\"bwr_r\", interpolation=\"None\")\n",
    "axs[3].set_title('speaker map')\n",
    "axs[3].imshow(make_speaker_map(I, ids), interpolation=\"None\", cmap=speaker_cm)\n",
    "fig.show()"
   ]
  },
  {
   "cell_type": "code",
   "execution_count": null,
   "id": "4b291878",
   "metadata": {},
   "outputs": [],
   "source": [
    "plt.hist(get_speaker_timeline(ids,I), bins=len(set(ids)));"
   ]
  },
  {
   "cell_type": "code",
   "execution_count": null,
   "id": "9c0f8c8b",
   "metadata": {},
   "outputs": [],
   "source": [
    "#|export\n",
    "def load_ids(mp3_path):\n",
    "    return load(str(mp3_path) + \"_speaker_ids.npy\")"
   ]
  }
 ],
 "metadata": {
  "kernelspec": {
   "display_name": "Python 3",
   "language": "python",
   "name": "python3"
  }
 },
 "nbformat": 4,
 "nbformat_minor": 5
}
