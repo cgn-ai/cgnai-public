{
 "cells": [
  {
   "cell_type": "code",
   "execution_count": null,
   "id": "3366c0d9",
   "metadata": {},
   "outputs": [],
   "source": [
    "%load_ext autoreload\n",
    "%autoreload 2\n",
    "%matplotlib inline\n",
    "from IPython.display import display, HTML\n",
    "from ipywidgets import interact, FloatSlider, IntSlider, Button, Output \n",
    "display(HTML(\"<style>.rendered_html.text_cell_render {max-width:600px; }</style>\")) "
   ]
  },
  {
   "cell_type": "markdown",
   "id": "0cf3062c",
   "metadata": {},
   "source": [
    "# Audio.Utils\n",
    "Resourses and useful links:\n",
    "\n",
    " - ..."
   ]
  },
  {
   "cell_type": "code",
   "execution_count": null,
   "id": "0dca9859",
   "metadata": {},
   "outputs": [],
   "source": [
    "#|default_exp audio.utils\n",
    "#|export\n",
    "import librosa\n",
    "from resemblyzer.hparams import audio_norm_target_dBFS\n",
    "import numpy as np\n",
    "from pathlib import Path\n",
    "int16_max = (2 ** 15) - 1\n",
    "\n",
    "#!\n",
    "#! Depreciated\n",
    "#!\n",
    "def normalize_volume(wav, target_dBFS, increase_only=False, decrease_only=False):\n",
    "    if increase_only and decrease_only:\n",
    "        raise ValueError(\"Both increase only and decrease only are set\")\n",
    "    rms         = np.sqrt(np.mean((wav * int16_max) ** 2))\n",
    "    wave_dBFS   = 20 * np.log10(rms / int16_max)\n",
    "    dBFS_change = target_dBFS - wave_dBFS\n",
    "    if dBFS_change < 0 and increase_only or dBFS_change > 0 and decrease_only:\n",
    "        return wav\n",
    "    \n",
    "    return wav * (10 ** (dBFS_change / 20))\n",
    "\n",
    "#!\n",
    "#! Depreciated\n",
    "#!\n",
    "def preprocess_wav(fpath_or_wav: Path):\n",
    "    # Load the wav from disk if needed\n",
    "    wav, source_sr = librosa.load(str(fpath_or_wav), sr=None)\n",
    "        \n",
    "    # Apply the preprocessing: normalize volume and shorten long silences \n",
    "    wav = normalize_volume(wav, audio_norm_target_dBFS, increase_only=True)\n",
    "    \n",
    "    return wav, source_sr"
   ]
  },
  {
   "cell_type": "code",
   "execution_count": null,
   "id": "8031f6c0",
   "metadata": {},
   "outputs": [],
   "source": [
    "#|export\n",
    "from resemblyzer import VoiceEncoder\n",
    "\n",
    "def compute_embedding(wav, rate=1.3):\n",
    "    \"\"\"\n",
    "    Cuts up wav in chunks of width 25600 = 1.6*16_000\n",
    "    \"\"\"\n",
    "    enc = VoiceEncoder(\"cpu\")\n",
    "    #      \n",
    "    # rate: how many partial utterances should occur per second\n",
    "    # len(X) ~ len(wav)/(16_000/rate)\n",
    "    _, X, S = enc.embed_utterance(wav[:], return_partials=True, rate=rate) \n",
    "    return X,S\n"
   ]
  },
  {
   "cell_type": "code",
   "execution_count": null,
   "id": "615f55c5",
   "metadata": {},
   "outputs": [],
   "source": [
    "#|hide\n",
    "rate = 11 # restarts per second\n",
    "\n",
    "wav = np.random.rand(16_000*20)\n",
    "x, s = compute_embedding(wav, rate=rate)\n",
    "\n",
    "#\n",
    "#  Understanding where the slices come from\n",
    "#  \n",
    "step_ms = 10                  # fft-step in ms\n",
    "step    = step_ms/1000*16_000 # fft-step in samples\n",
    "res     = 16_000/rate         # restart in samples\n",
    "res_fr  = res//step           # restart in frames/mel-columns\n",
    "res_    = int(res_fr * step)  # restart in samples again, but rounding happened\n",
    "\n",
    "assert res_ == s[1].start, (res,s[1].start)"
   ]
  },
  {
   "cell_type": "code",
   "execution_count": null,
   "id": "91eb84dc",
   "metadata": {},
   "outputs": [],
   "source": []
  }
 ],
 "metadata": {
  "kernelspec": {
   "display_name": "Python 3",
   "language": "python",
   "name": "python3"
  }
 },
 "nbformat": 4,
 "nbformat_minor": 5
}
