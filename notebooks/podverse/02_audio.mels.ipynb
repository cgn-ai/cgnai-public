{
 "cells": [
  {
   "cell_type": "code",
   "execution_count": null,
   "id": "126b60af",
   "metadata": {},
   "outputs": [],
   "source": [
    "%load_ext autoreload\n",
    "%autoreload 2\n",
    "%matplotlib inline\n",
    "from IPython.display import display, HTML\n",
    "from ipywidgets import interact, FloatSlider, IntSlider, Button, Output \n",
    "display(HTML(\"\"\"<s|tyle>\n",
    ".rendered_html.text_cell_render {max-width:600px;}\n",
    "</style>\"\"\")) "
   ]
  },
  {
   "cell_type": "markdown",
   "id": "8f4ff5cd",
   "metadata": {},
   "source": [
    "# audio.mels"
   ]
  },
  {
   "cell_type": "markdown",
   "id": "0fba1646",
   "metadata": {},
   "source": [
    "## `to_mel` Function and `cut_up`\n"
   ]
  },
  {
   "cell_type": "code",
   "execution_count": null,
   "id": "5714942d",
   "metadata": {},
   "outputs": [],
   "source": [
    "#|default_exp audio.mels\n",
    "#|export\n",
    "import warnings\n",
    "warnings.filterwarnings(\"ignore\")\n",
    "import torch\n",
    "from cgnai.utils import cgnai_home, sliding_window_ind\n",
    "from torchvision.transforms import Compose\n",
    "from torchaudio.transforms import Resample, MelSpectrogram"
   ]
  },
  {
   "cell_type": "code",
   "execution_count": null,
   "id": "9bbc36cb",
   "metadata": {},
   "outputs": [],
   "source": [
    "#|export\n",
    "def ToMel(sr, wav_cut_spec:\"(width, displacement)\", n_mels:\"features\"):\n",
    "    \"\"\"\n",
    "    Higher Order Function. Returns func that \n",
    "    maps a wav signal to its melspectrogram.\n",
    "    \"\"\"\n",
    "    w, d = wav_cut_spec\n",
    "    \n",
    "    components = []\n",
    "        \n",
    "    components.append(MelSpectrogram(\n",
    "        sample_rate = sr, \n",
    "        n_fft       = w, \n",
    "        hop_length  = d, \n",
    "        pad         = 0, \n",
    "        n_mels      = n_mels, \n",
    "        normalized  = False))\n",
    "\n",
    "    components.append(torchaudio.transforms.AmplitudeToDB(\n",
    "        stype  = 'power', \n",
    "        top_db =  80))\n",
    "\n",
    "    to_mel = Compose(components)\n",
    "    \n",
    "    return to_mel"
   ]
  },
  {
   "cell_type": "code",
   "execution_count": null,
   "id": "15eec682",
   "metadata": {},
   "outputs": [],
   "source": [
    "#|export\n",
    "def cut_up(x, cut_spec:\"(width, displacement)\"):\n",
    "    \"\"\"\n",
    "    Cuts up an array along its last(!!!) dimension\n",
    "    according to the cut spec - a tuple of \n",
    "    width and displacement.\n",
    "    \n",
    "    Note: The name sucks because it \n",
    "    really just is sliding windows, \n",
    "    and not \"cuts\" ...äaaanyway.\n",
    "    \"\"\"\n",
    "    return x.unfold(-1, *cut_spec)"
   ]
  },
  {
   "cell_type": "code",
   "execution_count": null,
   "id": "30071324",
   "metadata": {},
   "outputs": [],
   "source": [
    "#|export\n",
    "class MelCuts():\n",
    "    def __init__(self, sr, wav_cut_spec:\"(width, displacement)\", mel_cut_spec:\"(width, displacement)\", n_mels):\n",
    "        self.sr = sr\n",
    "        self.wav_cut_spec = wav_cut_spec\n",
    "        self.mel_cut_spec = mel_cut_spec\n",
    "        self.n_mels = n_mels\n",
    "        \n",
    "        self.to_mel = ToMel(sr, wav_cut_spec=wav_cut_spec, n_mels=n_mels)\n",
    "    \n",
    "    def cut_up(self, x):\n",
    "        return cut_up(x, mel_cut_spec)\n",
    "    \n",
    "    def __call__(self, wav):\n",
    "        mel = self.to_mel(wav)\n",
    "        cuts = self.cut_up(mel)\n",
    "        return mel, cuts"
   ]
  },
  {
   "cell_type": "code",
   "execution_count": null,
   "id": "e2a8b914",
   "metadata": {},
   "outputs": [],
   "source": [
    "#|export\n",
    "def to_samples(i, wav_cut_spec:\"(width, displacement)\", mel_cut_spec:\"(width, displacement)\"):\n",
    "    \"\"\"Mel-cut index to sample index.\"\"\"\n",
    "    w , d  = wav_cut_spec\n",
    "    w_, d_ = mel_cut_spec\n",
    "    return i*d_*d, (i*d_ + w_)*d + w\n",
    "            \n",
    "def to_ms(s, sr):\n",
    "    \"\"\"From samples at a certain rate (Hz) to ms\"\"\"\n",
    "    return s/sr*1000"
   ]
  },
  {
   "cell_type": "markdown",
   "id": "619d671a",
   "metadata": {},
   "source": [
    "## Testing and visualization"
   ]
  },
  {
   "cell_type": "code",
   "execution_count": null,
   "id": "7af4333b",
   "metadata": {},
   "outputs": [],
   "source": [
    "import matplotlib.pyplot as plt\n",
    "import torchaudio\n",
    "import torch\n",
    "from cgnai.fileio import *\n",
    "from IPython.display import Audio, display\n",
    "import numpy as np"
   ]
  },
  {
   "cell_type": "code",
   "execution_count": null,
   "id": "8cd52ca9",
   "metadata": {},
   "outputs": [],
   "source": [
    "path = cgnai_home()/\"local/data/cv-corpus-8.0-2022-01-19/en\"\n",
    "D    = torchaudio.datasets.COMMONVOICE(path, 'train.tsv')"
   ]
  },
  {
   "cell_type": "code",
   "execution_count": null,
   "id": "2bd26b19",
   "metadata": {},
   "outputs": [],
   "source": [
    "wav_, sr_, _ = D[10]\n",
    "# ---------------------\n",
    "print(f\"wav': {wav_.size()}\")\n",
    "print(f\"ORIGINAL sampling rate: {sr_:_.0f}\");\n",
    "display(Audio(wav_, rate=sr_));\n",
    "\n",
    "plt.figure(figsize=(12,2));\n",
    "plt.ylim(-1,1)\n",
    "plt.xlabel(\"Samples\")\n",
    "plt.ylabel(\"Amplitude\")\n",
    "plt.plot(wav_[0]);"
   ]
  },
  {
   "cell_type": "code",
   "execution_count": null,
   "id": "97ab03c6",
   "metadata": {},
   "outputs": [],
   "source": [
    "sr        = 16_000    \n",
    "\n",
    "fft_width = 512 \n",
    "fft_step  = fft_width//2\n",
    "\n",
    "n_mels    = 64\n",
    "mel_width = 40\n",
    "mel_step  = 20\n",
    "\n",
    "wav_cut_spec = (fft_width, fft_step)\n",
    "mel_cut_spec = (mel_width, mel_step)"
   ]
  },
  {
   "cell_type": "code",
   "execution_count": null,
   "id": "51864e56",
   "metadata": {},
   "outputs": [],
   "source": [
    "resample = Resample(sr_, sr)\n",
    "\n",
    "cut_it = MelCuts(sr=sr_, \n",
    "                 wav_cut_spec=wav_cut_spec, \n",
    "                 mel_cut_spec=mel_cut_spec, \n",
    "                 n_mels=n_mels)\n",
    "\n",
    "wav = resample(wav_)\n",
    "wav_cuts = cut_up(wav, wav_cut_spec)\n",
    "\n",
    "cuts = cut_up(mel, mel_cut_spec)\n",
    "\n",
    "mel, cuts = cut_it(wav)\n",
    "\n",
    "\n",
    "# ----------------\n",
    "print(mel.size(), cuts.size(), wav_cuts.size())"
   ]
  },
  {
   "cell_type": "code",
   "execution_count": null,
   "id": "bc9aeb34",
   "metadata": {},
   "outputs": [],
   "source": [
    "w , d  = wav_cut_spec\n",
    "w_, d_ = mel_cut_spec\n",
    "\n",
    "\n",
    "i   = 5\n",
    "fr0 = i*d_\n",
    "fr1 = i*d_ + w_\n",
    "s0  = fr0*d\n",
    "s1  = fr1*d + w\n",
    "\n",
    "\n",
    "# --------------------\n",
    "plt.figure(figsize=(14,2))\n",
    "plt.ylim(-1,1)\n",
    "plt.plot(wav[0])\n",
    "plt.gca().axvspan(s0, s1, alpha=0.1, color='k')\n",
    "plt.xticks([s0,s1])\n",
    "\n",
    "\n",
    "sub = torch.arange(fr0-5, fr1+10)\n",
    "wcuts = wav_cuts[sub]\n",
    "fig, axs = plt.subplots(1, len(wcuts),  figsize=(24,2), sharex=False, sharey=True)\n",
    "plt.ylim(-1,1)\n",
    "for t,wc in enumerate(wcuts):\n",
    "    axs[t].set_title(f\"{sub[t]}\")\n",
    "    axs[t].plot(wc[0])\n",
    "    axs[t].set_xticks([])\n",
    "    if fr0 <= sub[t] <= fr1:\n",
    "        axs[t].set_facecolor((0,0,0,0.1))\n",
    "    \n",
    "\n",
    "plt.figure(figsize=(15,4))\n",
    "\n",
    "im = mel[0].clone()\n",
    "im[:,fr0:fr1+1] *= 1\n",
    "plt.imshow(im)\n",
    "plt.xticks([fr0,fr1])\n",
    "\n",
    "\n",
    "fig, axs = plt.subplots(1, len(cuts), figsize=(14,3), sharex=False, sharey=True)\n",
    "for t,mc in enumerate(cuts):\n",
    "    axs[t].axis(\"off\")\n",
    "    axs[t].set_title(f\"{t}\")\n",
    "    axs[t].imshow(mc[0], cmap=\"plasma\", vmin=np.amin(mel.numpy()), vmax=np.amax(mel.numpy()))"
   ]
  },
  {
   "cell_type": "code",
   "execution_count": null,
   "id": "a0c35989",
   "metadata": {},
   "outputs": [],
   "source": []
  },
  {
   "cell_type": "code",
   "execution_count": null,
   "id": "028e427c",
   "metadata": {},
   "outputs": [],
   "source": []
  }
 ],
 "metadata": {
  "kernelspec": {
   "display_name": "Python 3",
   "language": "python",
   "name": "python3"
  }
 },
 "nbformat": 4,
 "nbformat_minor": 5
}
