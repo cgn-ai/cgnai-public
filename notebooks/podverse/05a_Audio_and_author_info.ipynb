{
 "cells": [
  {
   "cell_type": "code",
   "execution_count": null,
   "id": "4eb6ab98",
   "metadata": {},
   "outputs": [
    {
     "name": "stdout",
     "output_type": "stream",
     "text": [
      "The autoreload extension is already loaded. To reload it, use:\n",
      "  %reload_ext autoreload\n"
     ]
    },
    {
     "data": {
      "text/html": [
       "<style>.rendered_html.text_cell_render {max-width:600px; }</style>"
      ],
      "text/plain": [
       "<IPython.core.display.HTML object>"
      ]
     },
     "metadata": {},
     "output_type": "display_data"
    }
   ],
   "source": [
    "%load_ext autoreload\n",
    "%autoreload 2\n",
    "%matplotlib inline\n",
    "from IPython.display import display, HTML\n",
    "from ipywidgets import interact, FloatSlider, IntSlider, Button, Output \n",
    "display(HTML(\"<style>.rendered_html.text_cell_render {max-width:600px; }</style>\")) "
   ]
  },
  {
   "cell_type": "markdown",
   "id": "aa6b3e8b",
   "metadata": {},
   "source": [
    "# Helper"
   ]
  },
  {
   "cell_type": "markdown",
   "id": "55ec7037",
   "metadata": {},
   "source": [
    "## Lex Fridman on Youtube"
   ]
  },
  {
   "cell_type": "code",
   "execution_count": null,
   "id": "48fe785e",
   "metadata": {},
   "outputs": [],
   "source": [
    "import re\n",
    "from functools import reduce\n",
    "lex_episode_rx = re.compile(r\"(?P<guests>.+):.+\\|.+\\#(?P<episode>[0-9]+)\")\n",
    "\n",
    "def split_guests(string):\n",
    "    gs = string.split(\",\")\n",
    "    gs = [g.split(\"&\") for g in gs]\n",
    "    gs = reduce(lambda a,b: a + b, gs)\n",
    "    gs = [g.strip() for g in gs]\n",
    "    return gs\n",
    "\n",
    "def extract_info(title):\n",
    "    m = lex_episode_rx.match(v[\"title\"])\n",
    "    if m is not None:\n",
    "        d = m.groupdict()\n",
    "        d[\"guests\"] = split_guests(d[\"guests\"])\n",
    "        return d\n",
    "    else: \n",
    "        return None\n",
    "    \n",
    "def extract_ep(title):\n",
    "    info = extract_info(title)\n",
    "    if info is not None: return info[\"episode\"]\n",
    "    else: return None"
   ]
  },
  {
   "cell_type": "markdown",
   "id": "abb0d14b",
   "metadata": {},
   "source": [
    "# Loading audio data from youtube\n",
    "\n",
    "Resourses and useful links:\n",
    "\n",
    " - Thanks Andrej Karpathy: https://karpathy.ai/lexicap/"
   ]
  },
  {
   "cell_type": "markdown",
   "id": "ee8ca65e",
   "metadata": {},
   "source": [
    "## Grab youtube links\n",
    "Let's get all the videos from a given playlist. \n",
    "- Code snippet from the examples on https://pypi.org/project/youtube-search-python/."
   ]
  },
  {
   "cell_type": "code",
   "execution_count": null,
   "id": "6846980b",
   "metadata": {},
   "outputs": [
    {
     "name": "stdout",
     "output_type": "stream",
     "text": [
      "Videos Retrieved: 100\n",
      "Getting more videos...\n",
      "Videos Retrieved: 200\n",
      "Getting more videos...\n",
      "Videos Retrieved: 300\n",
      "Getting more videos...\n",
      "Videos Retrieved: 325\n",
      "Found all the videos.\n"
     ]
    }
   ],
   "source": [
    "from youtubesearchpython import Playlist, playlist_from_channel_id\n",
    "\n",
    "playlist = Playlist(\"https://www.youtube.com/playlist?list=PLrAXtmErZgOdP_8GztsuKi9nrraNbKKp4\")\n",
    "\n",
    "print(f'Videos Retrieved: {len(playlist.videos)}')\n",
    "\n",
    "while playlist.hasMoreVideos:\n",
    "    print('Getting more videos...')\n",
    "    playlist.getNextVideos()\n",
    "    print(f'Videos Retrieved: {len(playlist.videos)}')\n",
    "\n",
    "print('Found all the videos.')\n",
    "vids = playlist.videos"
   ]
  },
  {
   "cell_type": "code",
   "execution_count": null,
   "id": "f6efb194",
   "metadata": {},
   "outputs": [
    {
     "name": "stdout",
     "output_type": "stream",
     "text": [
      "dict_keys(['id', 'thumbnails', 'title', 'channel', 'duration', 'accessibility', 'link', 'isPlayable'])\n"
     ]
    }
   ],
   "source": [
    "v = vids[0]\n",
    "print(v.keys())"
   ]
  },
  {
   "cell_type": "markdown",
   "id": "d7ece11b",
   "metadata": {},
   "source": [
    "## Grab audio data from youtube\n",
    "Grab the audio data from youtube. See the CLI examples at https://github.com/yt-dlp/yt-dlp."
   ]
  },
  {
   "cell_type": "code",
   "execution_count": null,
   "id": "8a76961f",
   "metadata": {},
   "outputs": [
    {
     "data": {
      "text/plain": [
       "{'guests': ['John Danaher'],\n",
       " 'episode': '328',\n",
       " 'fname': 'lex_#328.mp3',\n",
       " 'id': 'iZRbD7q1n-U'}"
      ]
     },
     "execution_count": null,
     "metadata": {},
     "output_type": "execute_result"
    }
   ],
   "source": [
    "from pathlib import Path\n",
    "from cgnai.utils import cgnai_home\n",
    "from cgnai.fileio import dump\n",
    "\n",
    "target_dir = cgnai_home()/\"local/data/Lex_Fridman_Podcast/Examples\"\n",
    "\n",
    "i = 2\n",
    "v     = vids[i]\n",
    "info  = extract_info(v[\"title\"])\n",
    "vid   = v[\"id\"]\n",
    "fname = target_dir/f\"lex_#{info['episode']}.mp3\"\n",
    "info = extract_info(v[\"title\"])\n",
    "info[\"fname\"] = fname.name\n",
    "info[\"id\"] = vid\n",
    "\n",
    "dump(info, f\"{fname.name}_info\")\n",
    "info"
   ]
  },
  {
   "cell_type": "code",
   "execution_count": null,
   "id": "6704af98",
   "metadata": {},
   "outputs": [
    {
     "name": "stdout",
     "output_type": "stream",
     "text": [
      "[youtube] iZRbD7q1n-U: Downloading webpage\n",
      "[youtube] iZRbD7q1n-U: Downloading android player API JSON\n",
      "[info] iZRbD7q1n-U: Downloading 1 format(s): 251\n",
      "[download] Destination: /Users/mirko/Workspace/cgn.ai/cgnai/local/data/Lex_Fridman_Podcast/Examples/lex_#328.webm\n",
      "\u001b[K[download] 100% of  230.99MiB in \u001b[1;37m00:02:03\u001b[0m at \u001b[0;32m1.86MiB/s\u001b[0m0;33m00:00\u001b[0m\n",
      "[ExtractAudio] Destination: /Users/mirko/Workspace/cgn.ai/cgnai/local/data/Lex_Fridman_Podcast/Examples/lex_#328.mp3\n",
      "Deleting original file /Users/mirko/Workspace/cgn.ai/cgnai/local/data/Lex_Fridman_Podcast/Examples/lex_#328.webm (pass -k to keep)\n"
     ]
    }
   ],
   "source": [
    "!yt-dlp -x --audio-format mp3 -o $fname -- $vid"
   ]
  },
  {
   "cell_type": "code",
   "execution_count": null,
   "id": "c9e2742d",
   "metadata": {},
   "outputs": [],
   "source": []
  }
 ],
 "metadata": {
  "kernelspec": {
   "display_name": "Python 3",
   "language": "python",
   "name": "python3"
  }
 },
 "nbformat": 4,
 "nbformat_minor": 5
}
