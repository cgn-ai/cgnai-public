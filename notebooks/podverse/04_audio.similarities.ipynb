{
 "cells": [
  {
   "cell_type": "markdown",
   "id": "12993dea",
   "metadata": {},
   "source": [
    "# Audio - Similarities"
   ]
  },
  {
   "cell_type": "code",
   "execution_count": null,
   "id": "afac8fe5",
   "metadata": {},
   "outputs": [],
   "source": [
    "%load_ext autoreload\n",
    "%autoreload 2\n",
    "%matplotlib inline"
   ]
  },
  {
   "cell_type": "code",
   "execution_count": null,
   "id": "e0cb1469",
   "metadata": {},
   "outputs": [],
   "source": [
    "#|default_exp audio.similarities\n",
    "#|export\n",
    "import cgnai\n",
    "from pathlib import Path\n",
    "import sys\n",
    "from cgnai.logging import cgnai_logger\n",
    "import numpy as np\n",
    "from cgnai.utils import cgnai_home\n",
    "from cgnai.fileio import ls, load\n",
    "from cgnai.audio.diarization import get_speaker_timeline, load_ids\n",
    "from cgnai.audio.embeddings import load_embedding\n",
    "from cgnai.audio.superpixels import load_super_pixels\n",
    "\n",
    "logger = cgnai_logger(\"similarities\")\n",
    "log = logger.info"
   ]
  },
  {
   "cell_type": "markdown",
   "id": "a11c6351",
   "metadata": {},
   "source": [
    "## Load Sample Data"
   ]
  },
  {
   "cell_type": "code",
   "execution_count": null,
   "id": "36175824",
   "metadata": {},
   "outputs": [],
   "source": [
    "from cgnai.audio.superpixels import find_super_pixels, plot_super_pixels\n",
    "from cgnai.audio.diarization import get_speaker_timeline\n",
    "import matplotlib.pyplot as plt\n"
   ]
  },
  {
   "cell_type": "code",
   "execution_count": null,
   "id": "7e2fa175",
   "metadata": {},
   "outputs": [],
   "source": [
    "data_path = cgnai_home() / \"shared/podverse/data/dlf_politik_podcast/\"\n",
    "files = [f for f in ls(data_path).files if str(f).endswith(\".mp3\")]\n",
    "print(len(files))"
   ]
  },
  {
   "cell_type": "code",
   "execution_count": null,
   "id": "459ef8b6",
   "metadata": {},
   "outputs": [],
   "source": [
    "fname=files[0]\n",
    "print(fname)\n",
    "ids = load_ids(data_path / fname)\n",
    "I = load_super_pixels(data_path / fname)\n",
    "emb = load_embedding(data_path / fname)\n",
    "assert len(ids) == len(I) - 1\n",
    "assert emb.shape[0] == I[-1]\n",
    "assert emb.shape[1] == 512\n",
    "v=get_speaker_timeline(ids, I)"
   ]
  },
  {
   "cell_type": "markdown",
   "id": "8e327ab8",
   "metadata": {},
   "source": [
    "## Cluster Test"
   ]
  },
  {
   "cell_type": "code",
   "execution_count": null,
   "id": "1c415480",
   "metadata": {},
   "outputs": [],
   "source": [
    "D = emb@emb.T\n",
    "SM = (v[None,:] == v[:,None])*v[None]\n",
    "sub = 500\n",
    "# ----------------\n",
    "plt.figure(figsize=(4,4))\n",
    "plt.imshow(D[:sub,:sub], cmap=\"binary_r\", vmin=0.15, vmax=0.5)\n",
    "plt.imshow(SM[:sub,:sub], alpha=0.5, cmap=\"rainbow\")\n",
    "plt.show()"
   ]
  },
  {
   "cell_type": "code",
   "execution_count": null,
   "id": "26303530",
   "metadata": {},
   "outputs": [],
   "source": [
    "#|export\n",
    "\n",
    "def get_clusters(ids, I, min_ratio=0.1):\n",
    "    v=get_speaker_timeline(ids, I)\n",
    "    bins=np.linspace(-0.5, np.max(v)+ 0.5, np.max(v)+2)\n",
    "    h=np.histogram(v, bins=bins)[0]\n",
    "    ss = set(np.where(h > np.amax(h)*min_ratio)[0])\n",
    "    cl = {}\n",
    "    for i in ss:\n",
    "        cl[i] = (v == i)\n",
    "        \n",
    "    return cl, v\n",
    "    "
   ]
  },
  {
   "cell_type": "code",
   "execution_count": null,
   "id": "89a045b4",
   "metadata": {},
   "outputs": [],
   "source": [
    "clusters, timeline = get_clusters(ids, I)\n",
    "num_tracks = len(clusters.keys())\n",
    "csim = np.zeros((num_tracks, num_tracks))\n",
    "fig, axs = plt.subplots(num_tracks, num_tracks, figsize=(10,10))\n",
    "fig.tight_layout()\n",
    "for ia,a in enumerate(clusters.keys()):\n",
    "    for ib,b in enumerate(clusters.keys()):\n",
    "        axs[ia,ib].set_title(f\"{a} -- {b}\")\n",
    "        M = emb[clusters[a]]@emb[clusters[b]].T\n",
    "        axs[ia,ib].imshow(M, vmin=0.15, vmax=0.55)\n",
    "        csim[ia,ib] = np.mean(M)"
   ]
  },
  {
   "cell_type": "code",
   "execution_count": null,
   "id": "df78ab95",
   "metadata": {},
   "outputs": [],
   "source": [
    "plt.imshow(csim, vmax=0.5, vmin=0.15)\n",
    "plt.colorbar()"
   ]
  },
  {
   "cell_type": "code",
   "execution_count": null,
   "id": "c875f03f",
   "metadata": {},
   "outputs": [],
   "source": [
    "#|export\n",
    "\n",
    "def get_cluster_similarity(cl_i, emb_i, cl_j, emb_j):\n",
    "    T_i = len(emb_i)\n",
    "    T_j = len(emb_j)\n",
    "\n",
    "    n_i = len(cl_i.keys())\n",
    "    n_j = len(cl_j.keys())\n",
    "    \n",
    "    csim = np.zeros((n_i, n_j))\n",
    "\n",
    "    for ia,a in enumerate(cl_i.keys()):\n",
    "        for ib,b in enumerate(cl_j.keys()):\n",
    "            M = emb_i[cl_i[a],:]@emb_j[cl_j[b],:].T\n",
    "            csim[ia,ib] = np.mean(M)\n",
    "    return csim"
   ]
  },
  {
   "cell_type": "markdown",
   "id": "b19ca86a",
   "metadata": {},
   "source": [
    "## Plot Super Similarity Matrix"
   ]
  },
  {
   "cell_type": "code",
   "execution_count": null,
   "id": "4452149a",
   "metadata": {},
   "outputs": [],
   "source": [
    "#|export\n",
    "\n",
    "def plot_super_similarity_matrix(files):\n",
    "    ids = {}\n",
    "    Is = {}\n",
    "    embs = {}\n",
    "    clusters={}\n",
    "    for fname in files:\n",
    "        ids[fname] = load_ids(data_path / fname)\n",
    "        Is[fname] = load_super_pixels(data_path / fname)\n",
    "        embs[fname] = load_embedding(data_path / fname)\n",
    "        clusters[fname], _ = get_clusters(ids[fname], Is[fname])\n",
    "    log(\"Done loading\")\n",
    "        \n",
    "    \n",
    "    # Compute similarity matrices.\n",
    "    csims = []\n",
    "    for i in range(len(files)):\n",
    "        csims.append([])\n",
    "        for j in range(i, len(files)):\n",
    "            print(f\"{i} - {j}\", end=\"\\r\")\n",
    "            csim = get_cluster_similarity(clusters[files[i]], embs[files[i]], clusters[files[j]], embs[files[j]])\n",
    "            csims[-1].append(csim)\n",
    "    \n",
    "    cum = [0, *np.cumsum([c.shape[1] for c in csims[0]])]\n",
    "    super_sim = np.zeros((cum[-1],cum[-1]))\n",
    "\n",
    "    n = len(csims)\n",
    "    for i in range(n):\n",
    "        for j_ in range(len(csims[i])):\n",
    "            j = i + j_\n",
    "            cij = csims[i][j_]\n",
    "\n",
    "            super_sim[cum[i]:cum[i+1],cum[j]:cum[j+1] ] = cij\n",
    "            super_sim[cum[j]:cum[j+1],cum[i]:cum[i+1] ] = cij.T\n",
    "    \n",
    "    plt.figure(figsize=(20,20))\n",
    "    plt.imshow(super_sim, vmin=0.15, vmax=0.5)\n",
    "    for c in cum:\n",
    "        plt.hlines(c - 0.5,-0.5,cum[-1]-0.5, color=\"w\", linewidth=2)\n",
    "        plt.vlines(c - 0.5,-.5,cum[-1]-0.5, color=\"w\", linewidth=2)"
   ]
  },
  {
   "cell_type": "code",
   "execution_count": null,
   "id": "d26920f4",
   "metadata": {},
   "outputs": [],
   "source": [
    "fs = files[:20]\n",
    "plot_super_similarity_matrix(fs)\n",
    "for i, f in enumerate(fs):\n",
    "    print(i+1, str(f))"
   ]
  },
  {
   "cell_type": "code",
   "execution_count": null,
   "id": "2c3a9169",
   "metadata": {},
   "outputs": [],
   "source": []
  }
 ],
 "metadata": {
  "kernelspec": {
   "display_name": "Python 3",
   "language": "python",
   "name": "python3"
  }
 },
 "nbformat": 4,
 "nbformat_minor": 5
}
