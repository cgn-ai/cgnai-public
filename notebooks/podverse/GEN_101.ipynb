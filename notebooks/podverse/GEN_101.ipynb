{
 "cells": [
  {
   "cell_type": "code",
   "execution_count": null,
   "metadata": {},
   "outputs": [
    {
     "data": {
      "text/html": [
       "<style>.rendered_html.text_cell_render {max-width:700px; }</style>"
      ],
      "text/plain": [
       "HTML{String}(\"<style>.rendered_html.text_cell_render {max-width:700px; }</style>\")"
      ]
     },
     "metadata": {},
     "output_type": "display_data"
    }
   ],
   "source": [
    "display(HTML(\"<style>.rendered_html.text_cell_render {max-width:700px; }</style>\"));\n",
    "import PyPlot\n",
    "plt = PyPlot.plt\n",
    "plt.style.use(\"default\")\n",
    "using BenchmarkTools"
   ]
  },
  {
   "cell_type": "code",
   "execution_count": null,
   "metadata": {},
   "outputs": [],
   "source": [
    "using Gen"
   ]
  },
  {
   "cell_type": "code",
   "execution_count": null,
   "metadata": {},
   "outputs": [
    {
     "data": {
      "text/plain": [
       "DynamicDSLFunction{Any}(Dict{Symbol,Any}(), Dict{Symbol,Any}(), Type[], false, Union{Nothing, Some{Any}}[], ##f#425, Bool[], false)"
      ]
     },
     "execution_count": null,
     "metadata": {},
     "output_type": "execute_result"
    }
   ],
   "source": [
    "@gen function f()\n",
    "    x ~ normal(0,1)\n",
    "    y ~ normal(x,0.5)\n",
    "    return [x y]\n",
    "end"
   ]
  },
  {
   "cell_type": "code",
   "execution_count": null,
   "metadata": {},
   "outputs": [
    {
     "name": "stdout",
     "output_type": "stream",
     "text": [
      "\n",
      "w                 = 0.0\n",
      "score             = -1.795545984813676\n",
      "score_x + score_y = -1.795545984813676   \n"
     ]
    }
   ],
   "source": [
    "tr, w = generate(f, (), choicemap())\n",
    "\n",
    "sc   = get_score(tr)\n",
    "sc_x = project(tr, select(:x))\n",
    "sc_y = project(tr, select(:y))\n",
    "\n",
    "print(\"\n",
    "w                 = $w\n",
    "score             = $sc\n",
    "score_x + score_y = $(sc_x + sc_y)   \n",
    "\")"
   ]
  },
  {
   "cell_type": "code",
   "execution_count": null,
   "metadata": {},
   "outputs": [],
   "source": [
    "trs, ws, = importance_sampling(f, (), choicemap(), 1_000);"
   ]
  },
  {
   "cell_type": "code",
   "execution_count": null,
   "metadata": {},
   "outputs": [
    {
     "data": {
      "image/png": "[encoded data removed]",
      "text/plain": [
       "PyPlot.Figure(PyObject <Figure size 640x480 with 1 Axes>)"
      ]
     },
     "metadata": {},
     "output_type": "display_data"
    },
    {
     "data": {
      "text/plain": [
       "PyObject <matplotlib.collections.PathCollection object at 0x7faa01e6e1f0>"
      ]
     },
     "execution_count": null,
     "metadata": {},
     "output_type": "execute_result"
    }
   ],
   "source": [
    "zs     = get_retval.(trs)\n",
    "log_ps = get_score.(trs)\n",
    "\n",
    "zs = vcat(zs...)\n",
    "plt.scatter(zs[:,1], zs[:,2])"
   ]
  },
  {
   "cell_type": "markdown",
   "metadata": {},
   "source": [
    "# Map"
   ]
  },
  {
   "cell_type": "code",
   "execution_count": null,
   "metadata": {},
   "outputs": [
    {
     "name": "stdout",
     "output_type": "stream",
     "text": [
      "([1, 2], 3, 4)"
     ]
    }
   ],
   "source": [
    "function fargs(args...)\n",
    "    print(args)\n",
    "end\n",
    "\n",
    "fargs([1,2],3,4)"
   ]
  },
  {
   "cell_type": "code",
   "execution_count": null,
   "metadata": {},
   "outputs": [
    {
     "data": {
      "text/plain": [
       "Persistent{Any}[0.756576071514744, -0.3183732868739142, -565.7107198551076]"
      ]
     },
     "execution_count": null,
     "metadata": {},
     "output_type": "execute_result"
    }
   ],
   "source": [
    "@gen function test(μ, σ)\n",
    "    x ~ normal(μ, σ)\n",
    "    return x\n",
    "end\n",
    "\n",
    "mapper = Map(test)\n",
    "mapper([1,2,3],[1,2,3000])"
   ]
  },
  {
   "cell_type": "code",
   "execution_count": null,
   "metadata": {},
   "outputs": [
    {
     "ename": "MethodError",
     "evalue": "MethodError: no method matching ##test#506(::Gen.GFSimulateState, ::Int64, ::Int64)\nClosest candidates are:\n  ##test#506(::Any, ::Any) at In[40]:2",
     "output_type": "error",
     "traceback": [
      "MethodError: no method matching ##test#506(::Gen.GFSimulateState, ::Int64, ::Int64)\nClosest candidates are:\n  ##test#506(::Any, ::Any) at In[40]:2",
      "",
      "Stacktrace:",
      " [1] exec(::DynamicDSLFunction{Any}, ::Gen.GFSimulateState, ::Tuple{Int64,Int64}) at /Users/mirko/.julia/packages/Gen/5N1x4/src/dynamic/dynamic.jl:58",
      " [2] simulate at /Users/mirko/.julia/packages/Gen/5N1x4/src/dynamic/simulate.jl:61 [inlined]",
      " [3] process!(::Map{Any,Gen.DynamicDSLTrace}, ::Tuple{Array{Int64,1},Int64}, ::Int64, ::Gen.MapSimulateState{Any,Gen.DynamicDSLTrace}) at /Users/mirko/.julia/packages/Gen/5N1x4/src/modeling_library/map/simulate.jl:14",
      " [4] simulate(::Map{Any,Gen.DynamicDSLTrace}, ::Tuple{Array{Int64,1},Int64}) at /Users/mirko/.julia/packages/Gen/5N1x4/src/modeling_library/map/simulate.jl:27",
      " [5] macro expansion at /Users/mirko/.julia/packages/Gen/5N1x4/src/static_ir/simulate.jl:87 [inlined]",
      " [6] simulate(::var\"##StaticGenFunction_static_D_model#518\", ::Tuple{}) at /Users/mirko/.julia/packages/Gen/5N1x4/src/static_ir/simulate.jl:87",
      " [7] top-level scope at In[40]:10"
     ]
    }
   ],
   "source": [
    "\n",
    "@gen (static) function static_D_model() #Sim::Array{Float64,2})\n",
    "    M = zeros(3,3)\n",
    "    x = @trace(Map(test)([1,2,3]), :x)\n",
    "end\n",
    "\n",
    "@load_generated_functions \n",
    "tr = simulate(static_D_model, ());\n",
    "get_choices(tr)"
   ]
  },
  {
   "cell_type": "markdown",
   "metadata": {},
   "source": [
    "# Mixtures and multivariates"
   ]
  },
  {
   "cell_type": "code",
   "execution_count": null,
   "metadata": {},
   "outputs": [
    {
     "data": {
      "text/plain": [
       "-0.2460065144059398"
      ]
     },
     "execution_count": null,
     "metadata": {},
     "output_type": "execute_result"
    }
   ],
   "source": [
    "mixture_of_normals = HomogeneousMixture(normal, [0, 0])\n",
    "mixture_of_normals([0.4, 0.6], [-1.0, 1.0], [1.0, 1.0])"
   ]
  },
  {
   "cell_type": "code",
   "execution_count": null,
   "metadata": {},
   "outputs": [
    {
     "data": {
      "text/plain": [
       "1000-element Array{Float64,1}:\n",
       " 21.203827183068352  \n",
       " 20.188833970851352  \n",
       "  6.509119471766665  \n",
       " 11.460844601566492  \n",
       " 21.38508290076398   \n",
       "  0.39655853894283144\n",
       " 16.19997876375273   \n",
       " 11.164142736272538  \n",
       " 27.773869798195467  \n",
       " 24.67196381663001   \n",
       " 15.636935354759245  \n",
       " 11.285150174983062  \n",
       "  2.3938250986773237 \n",
       "  ⋮                  \n",
       " 10.129317217685712  \n",
       "  2.4873731360928826 \n",
       " 22.060894977980762  \n",
       " 23.604264862419118  \n",
       "  7.356188006730056  \n",
       " 16.852430294500852  \n",
       " 14.804610210103327  \n",
       "  0.9249928219059094 \n",
       " 14.30056605117029   \n",
       "  4.501468811489831  \n",
       " -2.704463957344326  \n",
       " 15.332611349858368  "
      ]
     },
     "execution_count": null,
     "metadata": {},
     "output_type": "execute_result"
    }
   ],
   "source": [
    "N = 1000\n",
    "cov = rand(N,N)\n",
    "cov = cov*cov'\n",
    "mu = rand(N)\n",
    "mvnormal(mu, cov)"
   ]
  },
  {
   "cell_type": "markdown",
   "metadata": {},
   "source": [
    "# Static vs Normal"
   ]
  },
  {
   "cell_type": "code",
   "execution_count": null,
   "metadata": {},
   "outputs": [],
   "source": [
    "@gen function model_a(T::Int)\n",
    "    D = zeros(T,T)\n",
    "    for i=1:T, j=1:T\n",
    "        D[i,j] = {:D => (i,j)} ~ normal(0,1)\n",
    "    end\n",
    "    return D\n",
    "end;"
   ]
  },
  {
   "cell_type": "code",
   "execution_count": null,
   "metadata": {},
   "outputs": [],
   "source": [
    "@gen function Dij_model(I)\n",
    "    d ~ normal(0,1)\n",
    "    return d\n",
    "end\n",
    "\n",
    "@gen (static) function model_b(T::Int)\n",
    "    D ~ Map(Dij_model)(CartesianIndices((T,T)))\n",
    "    return D\n",
    "end\n",
    "\n",
    "@load_generated_functions;"
   ]
  },
  {
   "cell_type": "code",
   "execution_count": null,
   "metadata": {},
   "outputs": [
    {
     "name": "stdout",
     "output_type": "stream",
     "text": [
      "  2.438 s (18850221 allocations: 619.79 MiB)\n"
     ]
    },
    {
     "ename": "InterruptException",
     "evalue": "InterruptException:",
     "output_type": "error",
     "traceback": [
      "InterruptException:",
      "",
      "Stacktrace:",
      " [1] Array at ./boot.jl:404 [inlined]",
      " [2] Dict{Any,Selection}() at ./dict.jl:90",
      " [3] DynamicSelection at /Users/mirko/.julia/packages/Gen/5N1x4/src/address.jl:266 [inlined]",
      " [4] AddressVisitor at /Users/mirko/.julia/packages/Gen/5N1x4/src/dynamic/dynamic.jl:120 [inlined]",
      " [5] GFGenerateState at /Users/mirko/.julia/packages/Gen/5N1x4/src/dynamic/generate.jl:11 [inlined]",
      " [6] generate at /Users/mirko/.julia/packages/Gen/5N1x4/src/dynamic/generate.jl:83 [inlined]",
      " [7] process!(::Map{Any,Gen.DynamicDSLTrace}, ::Tuple{CartesianIndices{2,Tuple{Base.OneTo{Int64},Base.OneTo{Int64}}}}, ::EmptyChoiceMap, ::Int64, ::Gen.MapGenerateState{Any,Gen.DynamicDSLTrace}) at /Users/mirko/.julia/packages/Gen/5N1x4/src/modeling_library/map/generate.jl:16",
      " [8] generate at /Users/mirko/.julia/packages/Gen/5N1x4/src/modeling_library/map/generate.jl:31 [inlined]",
      " [9] macro expansion at /Users/mirko/.julia/packages/Gen/5N1x4/src/static_ir/generate.jl:114 [inlined]",
      " [10] generate(::var\"##StaticGenFunction_model_b#521\", ::Tuple{Int64}, ::StaticChoiceMap{(),Tuple{},(),Tuple{}}) at /Users/mirko/.julia/packages/Gen/5N1x4/src/static_ir/generate.jl:114",
      " [11] macro expansion at /Users/mirko/.julia/packages/Gen/5N1x4/src/static_ir/generate.jl:75 [inlined]",
      " [12] generate(::var\"##StaticGenFunction_model_b#521\", ::Tuple{Int64}, ::DynamicChoiceMap) at /Users/mirko/.julia/packages/Gen/5N1x4/src/static_ir/generate.jl:114",
      " [13] ##core#554() at /Users/mirko/.julia/packages/BenchmarkTools/eCEpo/src/execution.jl:371",
      " [14] ##sample#555(::BenchmarkTools.Parameters) at /Users/mirko/.julia/packages/BenchmarkTools/eCEpo/src/execution.jl:379",
      " [15] sample at /Users/mirko/.julia/packages/BenchmarkTools/eCEpo/src/execution.jl:394 [inlined]",
      " [16] #_lineartrial#44(::Int64, ::Base.Iterators.Pairs{Union{},Union{},Tuple{},NamedTuple{(),Tuple{}}}, ::typeof(BenchmarkTools._lineartrial), ::BenchmarkTools.Benchmark{Symbol(\"##benchmark#553\")}, ::BenchmarkTools.Parameters) at /Users/mirko/.julia/packages/BenchmarkTools/eCEpo/src/execution.jl:133",
      " [17] _lineartrial(::BenchmarkTools.Benchmark{Symbol(\"##benchmark#553\")}, ::BenchmarkTools.Parameters) at /Users/mirko/.julia/packages/BenchmarkTools/eCEpo/src/execution.jl:125",
      " [18] #invokelatest#1 at ./essentials.jl:709 [inlined]",
      " [19] invokelatest at ./essentials.jl:708 [inlined]",
      " [20] #lineartrial#38 at /Users/mirko/.julia/packages/BenchmarkTools/eCEpo/src/execution.jl:33 [inlined]",
      " [21] lineartrial at /Users/mirko/.julia/packages/BenchmarkTools/eCEpo/src/execution.jl:33 [inlined]",
      " [22] #tune!#49(::Nothing, ::Float64, ::Float64, ::Bool, ::String, ::Base.Iterators.Pairs{Union{},Union{},Tuple{},NamedTuple{(),Tuple{}}}, ::typeof(tune!), ::BenchmarkTools.Benchmark{Symbol(\"##benchmark#553\")}, ::BenchmarkTools.Parameters) at /Users/mirko/.julia/packages/BenchmarkTools/eCEpo/src/execution.jl:209",
      " [23] tune! at /Users/mirko/.julia/packages/BenchmarkTools/eCEpo/src/execution.jl:208 [inlined] (repeats 2 times)",
      " [24] top-level scope at /Users/mirko/.julia/packages/BenchmarkTools/eCEpo/src/execution.jl:482",
      " [25] top-level scope at In[15]:3"
     ]
    }
   ],
   "source": [
    "T = 100\n",
    "@btime generate(model_a, (T,), choicemap());\n",
    "@btime generate(model_b, (T,), choicemap());"
   ]
  },
  {
   "cell_type": "markdown",
   "metadata": {},
   "source": [
    "# More obs than addresses"
   ]
  },
  {
   "cell_type": "code",
   "execution_count": null,
   "metadata": {},
   "outputs": [
    {
     "data": {
      "text/plain": [
       "5"
      ]
     },
     "execution_count": null,
     "metadata": {},
     "output_type": "execute_result"
    }
   ],
   "source": [
    "T = 5"
   ]
  },
  {
   "cell_type": "code",
   "execution_count": null,
   "metadata": {},
   "outputs": [
    {
     "data": {
      "text/plain": [
       "DynamicDSLFunction{Any}(Dict{Symbol,Any}(), Dict{Symbol,Any}(), Type[Int64], false, Union{Nothing, Some{Any}}[nothing], ##model#427, Bool[0], false)"
      ]
     },
     "execution_count": null,
     "metadata": {},
     "output_type": "execute_result"
    }
   ],
   "source": [
    "@gen function model(k::Int)\n",
    "    D = zeros(T,T)\n",
    "    for i=1:T, j=max(i-k,1):min(i+k,T)\n",
    "        D[i,j] = {:D => (i,j)} ~ normal(0,1)\n",
    "    end\n",
    "    return D\n",
    "end"
   ]
  },
  {
   "cell_type": "code",
   "execution_count": null,
   "metadata": {},
   "outputs": [
    {
     "data": {
      "image/png": "[encoded data removed]",
      "text/plain": [
       "PyPlot.Figure(PyObject <Figure size 640x480 with 1 Axes>)"
      ]
     },
     "metadata": {},
     "output_type": "display_data"
    },
    {
     "name": "stdout",
     "output_type": "stream",
     "text": [
      "-1535.473463330117\n",
      "-1535.473463330117"
     ]
    },
    {
     "data": {
      "text/plain": [
       "PyObject <matplotlib.image.AxesImage object at 0x7fa08eff9b50>"
      ]
     },
     "execution_count": null,
     "metadata": {},
     "output_type": "execute_result"
    }
   ],
   "source": [
    "obs = choicemap([ (:D => (i,j)) => i*j for i=1:T,j=1:T]...)\n",
    "\n",
    "tr, w = generate(model, (T,), obs)\n",
    "get_choices(tr)[:D => (1,1)]\n",
    "print(w)\n",
    "print(\"\\n\")\n",
    "D = get_retval(tr)\n",
    "# print(D)\n",
    "print(get_score(tr))\n",
    "# ---------\n",
    "plt.imshow(D)"
   ]
  },
  {
   "cell_type": "code",
   "execution_count": null,
   "metadata": {},
   "outputs": [
    {
     "data": {
      "image/png": "[encoded data removed]",
      "text/plain": [
       "PyPlot.Figure(PyObject <Figure size 640x480 with 1 Axes>)"
      ]
     },
     "metadata": {},
     "output_type": "display_data"
    },
    {
     "name": "stdout",
     "output_type": "stream",
     "text": [
      "-1085.4462009316608"
     ]
    },
    {
     "data": {
      "text/plain": [
       "PyObject <matplotlib.image.AxesImage object at 0x7fa08f2dd6d0>"
      ]
     },
     "execution_count": null,
     "metadata": {},
     "output_type": "execute_result"
    }
   ],
   "source": [
    "tr_, w_,_,_ = update(tr, (1,), (UnknownChange(),), choicemap());\n",
    "\n",
    "\n",
    "\n",
    "D_ = get_retval(tr_)\n",
    "print(get_score(tr_))\n",
    "# ---------\n",
    "plt.imshow(D_)"
   ]
  },
  {
   "cell_type": "code",
   "execution_count": null,
   "metadata": {},
   "outputs": [
    {
     "data": {
      "image/png": "[encoded data removed]",
      "text/plain": [
       "PyPlot.Figure(PyObject <Figure size 640x480 with 1 Axes>)"
      ]
     },
     "metadata": {},
     "output_type": "display_data"
    },
    {
     "name": "stdout",
     "output_type": "stream",
     "text": [
      "-1535.473463330117"
     ]
    },
    {
     "data": {
      "text/plain": [
       "PyObject <matplotlib.image.AxesImage object at 0x7fa08f44c640>"
      ]
     },
     "execution_count": null,
     "metadata": {},
     "output_type": "execute_result"
    }
   ],
   "source": [
    "tr__, w_,_,_ = update(tr_, (T,), (UnknownChange(),), obs);\n",
    "\n",
    "\n",
    "\n",
    "D = get_retval(tr__)\n",
    "print(get_score(tr__))\n",
    "# ---------\n",
    "plt.imshow(D)"
   ]
  },
  {
   "cell_type": "code",
   "execution_count": null,
   "metadata": {},
   "outputs": [],
   "source": []
  }
 ],
 "metadata": {
  "kernelspec": {
   "display_name": "Julia 1.3.1",
   "language": "julia",
   "name": "julia-1.3"
  }
 },
 "nbformat": 4,
 "nbformat_minor": 4
}
