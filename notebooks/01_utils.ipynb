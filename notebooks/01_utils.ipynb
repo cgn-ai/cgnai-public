{
 "cells": [
  {
   "cell_type": "markdown",
   "id": "757ed506",
   "metadata": {},
   "source": [
    "# Utils\n",
    "\n",
    "> Some helper methods and so on ... everything really"
   ]
  },
  {
   "cell_type": "code",
   "execution_count": null,
   "id": "5b31cc04",
   "metadata": {},
   "outputs": [],
   "source": [
    "%load_ext autoreload\n",
    "%autoreload 2\n",
    "%matplotlib inline"
   ]
  },
  {
   "cell_type": "code",
   "execution_count": null,
   "id": "b7bbc78e",
   "metadata": {},
   "outputs": [],
   "source": [
    "#|default_exp utils\n",
    "#|export\n",
    "import cgnai\n",
    "from pathlib import Path\n",
    "import sys\n",
    "from cgnai.logging import cgnai_logger\n",
    "\n",
    "logger = cgnai_logger(\"utils\")\n",
    "log = logger.info"
   ]
  },
  {
   "cell_type": "code",
   "execution_count": null,
   "id": "76ea47c7",
   "metadata": {},
   "outputs": [],
   "source": [
    "#|export\n",
    "class Bunch(dict):\n",
    "    def __init__(self, **kwargs):\n",
    "        super().__init__(kwargs)\n",
    "\n",
    "    def __setattr__(self, key, value):\n",
    "        self[key] = value\n",
    "\n",
    "    def __dir__(self):\n",
    "        return self.keys()\n",
    "\n",
    "    def __getattr__(self, key):\n",
    "        try:\n",
    "            return self[key]\n",
    "        except KeyError:\n",
    "            raise AttributeError(key)"
   ]
  },
  {
   "cell_type": "code",
   "execution_count": null,
   "id": "24519220",
   "metadata": {},
   "outputs": [],
   "source": [
    "#|export\n",
    "def cgnai_home():\n",
    "    return Path(cgnai.__file__).parents[1]\n",
    "\n",
    "def cgnai_lib():\n",
    "    return Path(cgnai.__file__).parents[0]"
   ]
  },
  {
   "cell_type": "code",
   "execution_count": null,
   "id": "b15babf0",
   "metadata": {},
   "outputs": [],
   "source": [
    "cgnai_home(), cgnai_lib()"
   ]
  },
  {
   "cell_type": "code",
   "execution_count": null,
   "id": "9db63f22",
   "metadata": {},
   "outputs": [],
   "source": [
    "#|export\n",
    "import time\n",
    "import datetime\n",
    "\n",
    "def time_stamp(form='%Y-%m-%d_%H:%M:%S'):\n",
    "    t = time.time()\n",
    "    return datetime.datetime.fromtimestamp(t).strftime(form)"
   ]
  },
  {
   "cell_type": "code",
   "execution_count": null,
   "id": "ff86b828",
   "metadata": {},
   "outputs": [],
   "source": [
    "#|export\n",
    "import numpy as np\n",
    "from functools import reduce, partial\n",
    "\n",
    "def listmap(f, arr):\n",
    "    return list(map(f,arr))\n",
    "\n",
    "def arrmap(f,arr):\n",
    "    return np.array(listmap(f,arr))\n",
    "\n",
    "def is_list(val):\n",
    "    return hasattr(val, '__iter__') and type(val) != str"
   ]
  },
  {
   "cell_type": "code",
   "execution_count": null,
   "id": "d262a2f7",
   "metadata": {},
   "outputs": [],
   "source": [
    "#|export\n",
    "def bunch_of_lists(list_of_dicts, keys=None):\n",
    "    y = {}    \n",
    "    if keys is None: keys = list_of_dicts[0].keys()\n",
    "    for k in keys: y[k] = arrmap(get(k), list_of_dicts)\n",
    "    return Bunch(**y)"
   ]
  },
  {
   "cell_type": "code",
   "execution_count": null,
   "id": "25707550",
   "metadata": {},
   "outputs": [],
   "source": [
    "#|export\n",
    "def sliding_window_ind(T, n, step, remainder=False):    \n",
    "    if n > T:\n",
    "        if remainder: return [], np.arange(T)\n",
    "        else: return []\n",
    "    \n",
    "    I   = np.tile(np.arange(n)[:,None], T-n+1) + np.arange(T-n+1)[None]\n",
    "    I   = I.T\n",
    "    sub = np.arange(len(I), step=step)\n",
    "    I   = I[sub]\n",
    "    \n",
    "    if remainder:\n",
    "        i = I[-1]\n",
    "        return I, np.arange(i[0] + step, T)\n",
    "    else:\n",
    "        return I"
   ]
  },
  {
   "cell_type": "code",
   "execution_count": null,
   "id": "0308293a",
   "metadata": {},
   "outputs": [],
   "source": [
    "w = sliding_window_ind(T=10, n=3, step=2)\n",
    "print(w.shape)\n",
    "w"
   ]
  },
  {
   "cell_type": "code",
   "execution_count": null,
   "id": "00c8120f",
   "metadata": {},
   "outputs": [],
   "source": [
    "#|export\n",
    "import subprocess\n",
    "\n",
    "def run_bash(command):\n",
    "    result = subprocess.run(command, shell=True, stdout=subprocess.PIPE)\n",
    "    result = result.stdout.decode('UTF-8')\n",
    "    return result.rstrip().split(\"\\n\")"
   ]
  },
  {
   "cell_type": "code",
   "execution_count": null,
   "id": "6e42c01b",
   "metadata": {},
   "outputs": [],
   "source": [
    "run_bash(\"ls -all\")"
   ]
  },
  {
   "cell_type": "code",
   "execution_count": null,
   "id": "a385a5ed",
   "metadata": {},
   "outputs": [],
   "source": [
    "#|export\n",
    "import ipynbname\n",
    "\n",
    "def this_nb_to_html(name=\"{nb}\", pre=\"_\", suff=\"\"):\n",
    "    \"\"\"\n",
    "    If called from within a notebook converts this \n",
    "    notebook to html and returns the html file name. \n",
    "    \n",
    "    The html file name can be formated using \n",
    "    the notebook name `nb` and a current time stamp `t`.\n",
    "    \"\"\"\n",
    "    t      = time_stamp()\n",
    "    path   = ipynbname.path().parent\n",
    "    name   = ipynbname.name() # nb name\n",
    "    rename = (pre + name + suff).format(nb=name, t=t) # renamed\n",
    "    \n",
    "    a = path/f\"{name}.ipynb\"\n",
    "    b = path/f\"{name}.html\"\n",
    "    c = path/f\"{rename}.html\"\n",
    "\n",
    "    log(f\"...Converting `./{a.name}` to `./{b.name}`.\")\n",
    "    run_bash(f\"jupyter nbconvert {a} --to html \")\n",
    "    run_bash(f\"mv {b} {c}\")\n",
    "    \n",
    "    return c"
   ]
  },
  {
   "cell_type": "code",
   "execution_count": null,
   "id": "50c651fe",
   "metadata": {},
   "outputs": [],
   "source": [
    "nb = this_nb_to_html(suff=\"_[{t}]\")"
   ]
  },
  {
   "cell_type": "code",
   "execution_count": null,
   "id": "a151f939",
   "metadata": {},
   "outputs": [],
   "source": [
    "!ls\n",
    "!rm $nb"
   ]
  },
  {
   "cell_type": "code",
   "execution_count": null,
   "id": "f74a524a",
   "metadata": {},
   "outputs": [],
   "source": [
    "#|export\n",
    "import inspect\n",
    "\n",
    "def defaultfrom(c):\n",
    "    \"\"\"\n",
    "    Binds values from context to \n",
    "    default keyword-only (!) arguments.\n",
    "    \"\"\"\n",
    "    def deco(f):\n",
    "        kw = inspect.getfullargspec(f).kwonlyargs\n",
    "        kw_in_c = []\n",
    "        for k in kw:\n",
    "            if k in c: kw_in_c.append(k)\n",
    "\n",
    "\n",
    "        def g(*args, **kwargs):\n",
    "            for k in kw_in_c: \n",
    "                if k not in kwargs: kwargs[k] = c[k]\n",
    "\n",
    "            return f(*args, **kwargs)\n",
    "\n",
    "        \n",
    "        return g\n",
    "    \n",
    "    return deco"
   ]
  },
  {
   "cell_type": "code",
   "execution_count": null,
   "id": "4a0f6087",
   "metadata": {},
   "outputs": [],
   "source": [
    "#|export\n",
    "def default_args(f):\n",
    "    sig = inspect.signature(f)\n",
    "    d = {}\n",
    "    for k,v in sig.parameters.items():\n",
    "        if v.default is not inspect.Parameter.empty:\n",
    "            d[k] = v.default\n",
    "    return d"
   ]
  },
  {
   "cell_type": "code",
   "execution_count": null,
   "id": "2ff7e91b",
   "metadata": {},
   "outputs": [],
   "source": [
    "def f(x, y=1, *, z=3):  return x\n",
    "default_args(f)"
   ]
  },
  {
   "cell_type": "code",
   "execution_count": null,
   "id": "ae0bd0c8",
   "metadata": {},
   "outputs": [],
   "source": []
  }
 ],
 "metadata": {
  "kernelspec": {
   "display_name": "Python 3",
   "language": "python",
   "name": "python3"
  },
  "language_info": {
   "codemirror_mode": {
    "name": "ipython",
    "version": 3
   },
   "file_extension": ".py",
   "mimetype": "text/x-python",
   "name": "python",
   "nbconvert_exporter": "python",
   "pygments_lexer": "ipython3",
   "version": "3.8.10"
  }
 },
 "nbformat": 4,
 "nbformat_minor": 5
}
