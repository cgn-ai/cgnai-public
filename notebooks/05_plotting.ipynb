{
 "cells": [
  {
   "cell_type": "code",
   "execution_count": null,
   "id": "8c42bd39",
   "metadata": {},
   "outputs": [
    {
     "data": {
      "text/html": [
       "<style>.rendered_html.text_cell_render {max-width:600px; }</style>"
      ],
      "text/plain": [
       "<IPython.core.display.HTML object>"
      ]
     },
     "metadata": {},
     "output_type": "display_data"
    }
   ],
   "source": [
    "%load_ext autoreload\n",
    "%autoreload 2\n",
    "%matplotlib inline\n",
    "from IPython.display import display, HTML, Markdown, Video, Image\n",
    "from ipywidgets import interact, FloatSlider, IntSlider, Button, Output \n",
    "display(HTML(\"<style>.rendered_html.text_cell_render {max-width:600px; }</style>\")) "
   ]
  },
  {
   "cell_type": "markdown",
   "id": "95090a1b",
   "metadata": {},
   "source": [
    "# Plotting\n",
    "\n",
    "Resourses and useful links:\n",
    "\n",
    " - ..."
   ]
  },
  {
   "cell_type": "code",
   "execution_count": null,
   "id": "eeb1734b",
   "metadata": {},
   "outputs": [],
   "source": [
    "#|default_exp plotting\n",
    "#|export\n",
    "import imageio\n",
    "import numpy as np\n",
    "import matplotlib.pyplot as plt\n",
    "\n",
    "\n",
    "def to_uint8(X):\n",
    "    if isinstance(X, list): X = np.array(X)\n",
    "    Y = X - np.amin(X)\n",
    "    Y = Y/np.amax(Y)\n",
    "    Y = Y*256\n",
    "    Y = Y.astype(np.uint8)\n",
    "    return Y\n",
    "    \n",
    "\n",
    "def ani(fname, X, **kwargs):\n",
    "    \n",
    "    if isinstance(X, list) and not isinstance(X[0], str): \n",
    "        X = np.array(X)\n",
    "        \n",
    "    if isinstance(X, np.ndarray):\n",
    "        if X[0].dtype != np.uint8: \n",
    "            X = to_uint8(X)\n",
    "    \n",
    "    with imageio.get_writer(fname, **kwargs) as writer:\n",
    "                \n",
    "        for x in X: \n",
    "            if isinstance(x, str): x = imageio.imread(x)\n",
    "            writer.append_data(x)\n",
    "\n"
   ]
  },
  {
   "cell_type": "code",
   "execution_count": null,
   "id": "98ae4c98",
   "metadata": {},
   "outputs": [
    {
     "data": {
      "text/plain": [
       "True"
      ]
     },
     "execution_count": null,
     "metadata": {},
     "output_type": "execute_result"
    }
   ],
   "source": [
    "#|hide\n",
    "X = np.random.rand(20, 100, 200)\n",
    "X = to_uint8(X)\n",
    "X.dtype == np.uint8"
   ]
  },
  {
   "cell_type": "code",
   "execution_count": null,
   "id": "e3687530",
   "metadata": {},
   "outputs": [],
   "source": [
    "#|hide\n",
    "X = np.random.rand(20, 100, 200)\n",
    "fname = \"_test.gif\"\n",
    "ani(fname, X)\n",
    "Image(fname)"
   ]
  },
  {
   "cell_type": "code",
   "execution_count": null,
   "id": "44adb5e7",
   "metadata": {},
   "outputs": [
    {
     "data": {
      "text/html": [
       "<video src=\"_test.mp4\" controls  >\n",
       "      Your browser does not support the <code>video</code> element.\n",
       "    </video>"
      ],
      "text/plain": [
       "<IPython.core.display.Video object>"
      ]
     },
     "execution_count": null,
     "metadata": {},
     "output_type": "execute_result"
    }
   ],
   "source": [
    "#|hide\n",
    "X = np.random.rand(20, 10*16, 20*16)\n",
    "fname = \"_test.mp4\"\n",
    "ani(fname, X)\n",
    "Video(fname)"
   ]
  },
  {
   "cell_type": "code",
   "execution_count": null,
   "id": "6097210e",
   "metadata": {},
   "outputs": [],
   "source": [
    "#|hide\n",
    "fname = \"_test.mp4\"\n",
    "with imageio.get_writer(fname) as writer:\n",
    "\n",
    "\n",
    "    ?writer.append_data"
   ]
  },
  {
   "cell_type": "code",
   "execution_count": null,
   "id": "1f8d2da9",
   "metadata": {},
   "outputs": [],
   "source": [
    "#|hide\n",
    "X = []\n",
    "folder = \"_gif\"\n",
    "!mkdir -p $folder\n",
    "\n",
    "for i in range(10):\n",
    "    \n",
    "    \n",
    "    fig = plt.figure(figsize=(4,1), facecolor='white')\n",
    "    plt.xlim(0,10)\n",
    "    plt.ylim(-1,2)\n",
    "    plt.plot(np.random.rand(11), marker=\"|\")\n",
    "    \n",
    "    fname = f\"{folder}/{i}.png\"\n",
    "    X.append(fname)\n",
    "    plt.savefig(fname, bbox_inches='tight')\n",
    "    plt.close()\n",
    "    \n",
    "fname = \"_test.gif\"\n",
    "ani(fname, X)\n",
    "!rm -r $folder\n",
    "\n",
    "Image(fname)"
   ]
  },
  {
   "cell_type": "code",
   "execution_count": null,
   "id": "0c5fa6b1",
   "metadata": {},
   "outputs": [],
   "source": []
  }
 ],
 "metadata": {
  "kernelspec": {
   "display_name": "Python 3",
   "language": "python",
   "name": "python3"
  }
 },
 "nbformat": 4,
 "nbformat_minor": 5
}
