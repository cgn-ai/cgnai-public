{
 "cells": [
  {
   "cell_type": "markdown",
   "id": "48d0e61f-dc62-4b55-bb9b-c6bb8198af93",
   "metadata": {},
   "source": [
    "# Logging"
   ]
  },
  {
   "cell_type": "code",
   "execution_count": null,
   "id": "e37a2eaa-65a4-4f30-a0ae-e92407862bd3",
   "metadata": {},
   "outputs": [],
   "source": [
    "#|default_exp logging\n",
    "#|export\n",
    "import logging\n",
    "import sys\n",
    "\n",
    "def cgnai_logger(name, form='%(levelname)s %(name)s|  %(message)s', stream=sys.stdout):\n",
    "    logger = logging.getLogger(name)\n",
    "    logger.setLevel(logging.INFO)\n",
    "    handler = logging.StreamHandler(stream)\n",
    "    handler.setLevel(logging.INFO)\n",
    "    formatter = logging.Formatter(form)\n",
    "    handler.setFormatter(formatter)\n",
    "    logger.addHandler(handler)\n",
    "    \n",
    "    return logger"
   ]
  },
  {
   "cell_type": "code",
   "execution_count": null,
   "id": "282ed837-410a-4f53-aa9a-793688dda421",
   "metadata": {},
   "outputs": [],
   "source": [
    "!nbdev_export"
   ]
  },
  {
   "cell_type": "code",
   "execution_count": null,
   "id": "ce692015-8ac1-446a-b52c-b5d16e6750eb",
   "metadata": {},
   "outputs": [],
   "source": []
  }
 ],
 "metadata": {
  "kernelspec": {
   "display_name": "Python 3",
   "language": "python",
   "name": "python3"
  }
 },
 "nbformat": 4,
 "nbformat_minor": 5
}
