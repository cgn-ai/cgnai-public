{
 "cells": [
  {
   "cell_type": "markdown",
   "metadata": {},
   "source": [
    "# cgn.ai\n",
    "\n"
   ]
  },
  {
   "cell_type": "markdown",
   "metadata": {},
   "source": [
    "**Conventions**\n",
    "\n",
    "Function signatures:\n",
    " - Model function: $\\hat{y} = f(x\\ldots)$\n",
    " - Loss function: $L(\\hat{y}, y\\ldots)$\n",
    " - Batch loss: $l = F(b)$\n",
    " \n",
    " NBX:\n",
    " - tasks, or task id : $1 \\leq t$  \n",
    " - data index: $0 \\leq i$\n",
    " - $t = t + 1$ or, equivalently, $i = t - 1$"
   ]
  },
  {
   "cell_type": "code",
   "execution_count": null,
   "metadata": {},
   "outputs": [],
   "source": []
  }
 ],
 "metadata": {
  "kernelspec": {
   "display_name": "Python 3",
   "language": "python",
   "name": "python3"
  }
 },
 "nbformat": 4,
 "nbformat_minor": 4
}
