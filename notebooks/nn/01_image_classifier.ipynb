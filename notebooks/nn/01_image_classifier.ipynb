{
 "cells": [
  {
   "cell_type": "code",
   "execution_count": null,
   "id": "3766bb86",
   "metadata": {},
   "outputs": [],
   "source": [
    "%load_ext autoreload\n",
    "%autoreload 2\n",
    "%matplotlib inline\n",
    "from IPython.display import display, HTML\n",
    "from ipywidgets import interact, FloatSlider, IntSlider, Button, Output \n",
    "display(HTML(\"<style>.rendered_html.text_cell_render {max-width:600px; }</style>\")) "
   ]
  },
  {
   "cell_type": "markdown",
   "id": "98fa891f",
   "metadata": {},
   "source": [
    "# Image classifier\n",
    "\n",
    "Resourses and useful links:\n",
    "\n",
    " - ..."
   ]
  },
  {
   "cell_type": "code",
   "execution_count": null,
   "id": "89f64467",
   "metadata": {},
   "outputs": [],
   "source": [
    "[1,2,3][:-1]"
   ]
  },
  {
   "cell_type": "code",
   "execution_count": null,
   "id": "0921dc0f",
   "metadata": {},
   "outputs": [],
   "source": [
    "#| default_exp nn.image_classifier\n",
    "#| export\n",
    "import torch\n",
    "import torch.nn as nn\n",
    "import torch.nn.functional as F\n",
    "\n",
    "\n",
    "class ConvLinClassifier(nn.Module):\n",
    "    def __init__(self, \n",
    "                 imshape, \n",
    "                 classes, \n",
    "                 channels = [16,32], \n",
    "                 kernels  = [3,3], \n",
    "                 hidden   = None):\n",
    "        super().__init__()\n",
    "        \n",
    "        \n",
    "        \n",
    "        conv_layers = []\n",
    "        ch          = [imshape[0]] + channels\n",
    "        for i in range(len(ch)-1): \n",
    "            k = 3 if kernels is None else kernels[i]\n",
    "            conv_layers.extend([\n",
    "                nn.Conv2d(ch[i], ch[i+1], k), \n",
    "                nn.ReLU()])\n",
    "            \n",
    "        self.conv = nn.Sequential(\n",
    "                        *conv_layers, \n",
    "                        nn.MaxPool2d(2), \n",
    "                        nn.Flatten(1))\n",
    "        \n",
    "        with torch.no_grad():\n",
    "            x = torch.rand(128,*imshape) # b, c, w, h\n",
    "            x = self.conv(x)\n",
    "            h0 = x.size(-1)\n",
    "        \n",
    "        lin_layers = []\n",
    "        hs         = [h0] + hidden + [classes]\n",
    "        for i in range(len(hs)-1):\n",
    "            lin_layers.extend([ \n",
    "                nn.Linear(hs[i], hs[i+1]),\n",
    "                nn.ReLU()])\n",
    "        \n",
    "        \n",
    "        self.lin  = nn.Sequential(*lin_layers[:-1]) \n",
    "        self.out  = nn.Sigmoid() \n",
    "\n",
    "\n",
    "    def forward(self, x):\n",
    "        x = self.conv(x)\n",
    "        x = self.lin(x)\n",
    "        x = self.out(x)\n",
    "        return x\n",
    "    "
   ]
  },
  {
   "cell_type": "code",
   "execution_count": null,
   "id": "276617b6",
   "metadata": {},
   "outputs": [],
   "source": [
    "from cgnai.utils import cgnai_home\n",
    "from torchvision.datasets import MNIST\n",
    "from torch.utils.data import DataLoader\n",
    "import torchvision.transforms as transforms\n",
    "import torch.nn.functional as F\n",
    "import matplotlib.pyplot as plt\n",
    "\n",
    "B = 64\n",
    "mnist  = MNIST(cgnai_home()/\"local/mnist\", train=True, transform=transforms.ToTensor())\n",
    "mnist_ = MNIST(cgnai_home()/\"local/mnist\", train=False, transform=transforms.ToTensor())\n",
    "\n",
    "def collate(d):\n",
    "    x,y = zip(*d)\n",
    "    x = torch.stack(x)\n",
    "    y = F.one_hot(torch.LongTensor(y),10).float()\n",
    "    return (x,y)\n",
    "\n",
    "dl = DataLoader(mnist,  batch_size=B, shuffle=True, collate_fn=collate)\n",
    "tl = DataLoader(mnist_, batch_size=B, shuffle=True, collate_fn=collate)\n",
    "x,y = next(iter(dl));"
   ]
  },
  {
   "cell_type": "code",
   "execution_count": null,
   "id": "da2315ba",
   "metadata": {},
   "outputs": [],
   "source": [
    "f = ConvLinClassifier((1,28,28), 10, [16,32], [3,3], [128])\n",
    "\n",
    "\n",
    "with torch.no_grad():\n",
    "    x, y  = next(iter(dl))    \n",
    "    y_hat = f(x)\n",
    "    \n",
    "loss = torch.nn.BCELoss()\n",
    "loss(y_hat, y)\n",
    "f"
   ]
  },
  {
   "cell_type": "code",
   "execution_count": null,
   "id": "0012e918",
   "metadata": {},
   "outputs": [],
   "source": [
    "from cgnai.school.training import TrainingLoop, StdBatchLoss\n",
    "\n",
    "loop = TrainingLoop(\n",
    "    batch_loss  = StdBatchLoss(f, loss),\n",
    "    data_loader = dl,\n",
    "    opt         = torch.optim.Adam\n",
    ")\n",
    "loop.run(5);"
   ]
  },
  {
   "cell_type": "code",
   "execution_count": null,
   "id": "49dd6a31",
   "metadata": {},
   "outputs": [],
   "source": [
    "plt.plot(loop.L_flatten);"
   ]
  },
  {
   "cell_type": "code",
   "execution_count": null,
   "id": "ad4d4900",
   "metadata": {},
   "outputs": [],
   "source": [
    "len(tl)"
   ]
  },
  {
   "cell_type": "code",
   "execution_count": null,
   "id": "b08710e5",
   "metadata": {},
   "outputs": [],
   "source": [
    "import numpy as np\n",
    "mc = []\n",
    "with torch.no_grad():\n",
    "    for x,y in tl:\n",
    "        y_hat = f(x)\n",
    "        d_hat = torch.argmax(y_hat, dim=-1)\n",
    "        d     = torch.argmax(y,     dim=-1)\n",
    "\n",
    "        # misclassified\n",
    "        mc.append(torch.sum( d_hat != d)/B)\n",
    "        \n",
    "np.mean(mc)"
   ]
  },
  {
   "cell_type": "code",
   "execution_count": null,
   "id": "6aa0f2f2",
   "metadata": {},
   "outputs": [],
   "source": []
  }
 ],
 "metadata": {
  "kernelspec": {
   "display_name": "Python 3",
   "language": "python",
   "name": "python3"
  }
 },
 "nbformat": 4,
 "nbformat_minor": 5
}
