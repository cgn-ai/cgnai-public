{
 "cells": [
  {
   "cell_type": "markdown",
   "metadata": {},
   "source": [
    "# Parsing the notebook"
   ]
  },
  {
   "cell_type": "code",
   "execution_count": null,
   "metadata": {},
   "outputs": [],
   "source": [
    "%load_ext autoreload\n",
    "%autoreload 2\n",
    "%matplotlib inline"
   ]
  },
  {
   "cell_type": "code",
   "execution_count": null,
   "metadata": {},
   "outputs": [],
   "source": [
    "from IPython.display import display, Markdown, HTML\n",
    "from pprint import pprint"
   ]
  },
  {
   "cell_type": "markdown",
   "metadata": {},
   "source": [
    "## Loading a notebook"
   ]
  },
  {
   "cell_type": "code",
   "execution_count": null,
   "metadata": {},
   "outputs": [],
   "source": [
    "#|default_exp nbx.nbparser\n",
    "#|export\n",
    "from typing import Union, List, Tuple\n",
    "from cgnai.utils import listmap\n",
    "import ipynbname\n",
    "import json\n",
    "from cgnai.utils import Bunch\n",
    "from pathlib import Path"
   ]
  },
  {
   "cell_type": "code",
   "execution_count": null,
   "metadata": {},
   "outputs": [],
   "source": [
    "#|export\n",
    "def load_nb(fname):\n",
    "    \"\"\"Loads a a ipynotebook-bunch\"\"\" \n",
    "    try:\n",
    "        nbdict = json.loads(fname)\n",
    "    except:\n",
    "        nbdict = json.load(open(fname,'r',encoding=\"utf-8\"))\n",
    "        \n",
    "    nbdict[\"fname\"] = str(fname)\n",
    "    return Bunch(**nbdict)"
   ]
  },
  {
   "cell_type": "code",
   "execution_count": null,
   "metadata": {},
   "outputs": [],
   "source": [
    "%%capture\n",
    "nb = load_nb(\"nbx_example/test_notebook.ipynb\")\n",
    "for i,cell in enumerate(nb.cells):\n",
    "    h = f\"|   cell {i}   |\"\n",
    "    n = len(h) - 2    \n",
    "    display(HTML(f\"<h3 style='color: black'>Cell - {i} - {cell['cell_type']}</h3>\"))\n",
    "    s = \"<br>\".join(cell[\"source\"])\n",
    "    s = f\"<code>{s}</code>\"\n",
    "    display(HTML(s.replace(\"\\n\", \"<span style='color:red'> &crarr;</span>\")))"
   ]
  },
  {
   "cell_type": "markdown",
   "metadata": {},
   "source": [
    "# Parsing a line"
   ]
  },
  {
   "cell_type": "code",
   "execution_count": null,
   "metadata": {},
   "outputs": [],
   "source": [
    "#|export \n",
    "def add_fail(p):\n",
    "    \"\"\"\n",
    "    Adds an argument that determines the \n",
    "    return value in case of a failed parse\n",
    "    \"\"\"\n",
    "    def q(*args, fail=None, **kwargs):\n",
    "        r = p(*args, **kwargs, )\n",
    "        if r is None: return fail\n",
    "        else: return r\n",
    "    return q"
   ]
  },
  {
   "cell_type": "markdown",
   "metadata": {},
   "source": [
    "## Parsing Hashtags (`#nbx`)"
   ]
  },
  {
   "cell_type": "code",
   "execution_count": null,
   "metadata": {},
   "outputs": [],
   "source": [
    "#|export\n",
    "import re\n",
    "tag_rx = re.compile(r\"^\\s*#([a-zA-Z_]+)(.*)$\")\n",
    "\n",
    "def parse_any_tag(line):\n",
    "    \"\"\"\n",
    "    Splits off a tag (eg. `#MyTAg`) at the beginning of the line. \n",
    "    \"\"\"\n",
    "    m = tag_rx.match(line)\n",
    "    if m is not None: return m.groups()\n",
    "    else: return None"
   ]
  },
  {
   "cell_type": "code",
   "execution_count": null,
   "metadata": {},
   "outputs": [],
   "source": [
    "parse_any_tag(\"#nbx something else\")"
   ]
  },
  {
   "cell_type": "code",
   "execution_count": null,
   "metadata": {},
   "outputs": [],
   "source": [
    "#|export\n",
    "def parse_tag(name):\n",
    "    \"\"\"Splits off a specified tag only\"\"\"\n",
    "\n",
    "    def p(line):\n",
    "        r = parse_any_tag(line)\n",
    "        if r is None: return None\n",
    "        else: \n",
    "            if r[0] != name: return None\n",
    "            else: return r\n",
    "    return p"
   ]
  },
  {
   "cell_type": "code",
   "execution_count": null,
   "metadata": {},
   "outputs": [],
   "source": [
    "assert parse_tag(\"nbx\")(\"#nbx\")[0]    == \"nbx\"\n",
    "assert parse_tag(\"nbx\")(\"#nbx \")[0]   == \"nbx\"\n",
    "assert parse_tag(\"nbx\")(\"#nbx: \")[0]  == \"nbx\"\n",
    "assert parse_tag(\"nbx\")(\"#nbx : \")[0] == \"nbx\"\n",
    "assert parse_tag(\"nbx\")(\"#xarg  something else \") == None"
   ]
  },
  {
   "cell_type": "code",
   "execution_count": null,
   "metadata": {},
   "outputs": [],
   "source": [
    "#|export\n",
    "def result_or_none(y:\"parser return\"):\n",
    "    if y is None: return None\n",
    "    else: return y[0]"
   ]
  },
  {
   "cell_type": "code",
   "execution_count": null,
   "metadata": {},
   "outputs": [],
   "source": [
    "assert result_or_none(parse_any_tag(\"#nbx\")) == \"nbx\"\n",
    "assert result_or_none(parse_any_tag(\"#nbx \")) == \"nbx\"\n",
    "assert result_or_none(parse_any_tag(\"# nbx something else \")) == None"
   ]
  },
  {
   "cell_type": "markdown",
   "metadata": {},
   "source": [
    "## Parsing `#nbx_meta`"
   ]
  },
  {
   "cell_type": "code",
   "execution_count": null,
   "metadata": {},
   "outputs": [],
   "source": [
    "#|export\n",
    "import re\n",
    "flag_rx = re.compile(r\"(?:[\\-]+)(?P<name>[a-zA-Z_\\-]+)\")\n",
    "\n",
    "def flagname(line):\n",
    "    \"\"\"\n",
    "    Splits off the name of a flag `--flagename`. \n",
    "    \"\"\"\n",
    "    m = flag_rx.match(line)\n",
    "    if m is not None: return m.groupdict()[\"name\"]\n",
    "    else: return None\n",
    "    \n",
    "def is_flag(line): return flagname(line) is not None\n",
    "\n",
    "def pairs(arr):\n",
    "    n = len(arr); \n",
    "    assert n%2==0\n",
    "    ps = []\n",
    "    for i in range(n//2): ps.append((arr[2*i],arr[2*i+1]))\n",
    "    return ps"
   ]
  },
  {
   "cell_type": "code",
   "execution_count": null,
   "metadata": {},
   "outputs": [],
   "source": [
    "is_flag(\"-flag_name\"), flagname(\"--some-name\"), flagname(\"-some_other_name\")"
   ]
  },
  {
   "cell_type": "code",
   "execution_count": null,
   "metadata": {},
   "outputs": [],
   "source": [
    "#|export\n",
    "import shlex\n",
    "def parse_nbx_meta(line):    \n",
    "    _, r = parse_tag(\"nbx_meta\")(line)\n",
    "    args = shlex.split(r)\n",
    "    if len(args) % 2 != 0: return None\n",
    "    \n",
    "    d = {}\n",
    "    for k,v in pairs(args):\n",
    "        if not is_flag(k): return None\n",
    "        d[flagname(k)] = v\n",
    "    \n",
    "    return (d, \"\")\n"
   ]
  },
  {
   "cell_type": "code",
   "execution_count": null,
   "metadata": {},
   "outputs": [],
   "source": [
    "print(parse_nbx_meta(\"#nbx_meta  --fname experiment.py  -s ./src  \"))\n",
    "print(parse_nbx_meta(\"#nbx_meta  experiment.py  \"))\n",
    "print(parse_nbx_meta(\"#nbx_meta -n  experiment.py  --src src \"))"
   ]
  },
  {
   "cell_type": "markdown",
   "metadata": {},
   "source": [
    "## Parsing `xarg`"
   ]
  },
  {
   "cell_type": "code",
   "execution_count": null,
   "metadata": {},
   "outputs": [],
   "source": [
    "#|export\n",
    "xarg_rx = re.compile(r\"\"\"\n",
    "^(?P<name>[^=]+)=(?P<val>[^;#]+)\n",
    "(?:(?:;(?P<sweep>[^\\#]*))?(?:\\#(?P<help>.*))?)?\n",
    "$\"\"\", re.VERBOSE)\n",
    "\n",
    "def strip(s):\n",
    "    return s.strip()\n",
    "\n",
    "def strip_or_none(s):\n",
    "    if s is None: return None\n",
    "    else: return s.strip()\n",
    "\n",
    "def strip_dict_vals(d):\n",
    "    for k,v in d.items():\n",
    "        d[k] = strip_or_none(v)\n",
    "    return d\n",
    "    \n",
    "def parse_xarg(line):\n",
    "    \"\"\"\n",
    "    Parses the line below an `xarg` tag and\n",
    "    returns a dict with keys `[name,val,type,help,sweep]`.\n",
    "    \"\"\"\n",
    "\n",
    "    m = xarg_rx.match(line)\n",
    "    if m is None: return None\n",
    "    \n",
    "    d = dict(**m.groupdict())\n",
    "    d = strip_dict_vals(d)\n",
    "    \n",
    "    v = eval(d['val'])\n",
    "    d['type'] = type(v).__name__ \n",
    "    \n",
    "    if d['help']  == \"\": d['help']  = None\n",
    "    if d['sweep'] == \"\": d['sweep'] = None\n",
    "    \n",
    "    return (d, \"\")\n"
   ]
  },
  {
   "cell_type": "code",
   "execution_count": null,
   "metadata": {},
   "outputs": [],
   "source": [
    "test_lines = [\n",
    "    (\"x + 2 ; [] \",      None),\n",
    "    (\"x = 2  \",      (\"x\",\"2\",None,None)),\n",
    "    (\"x = 2  ;  \",   (\"x\",\"2\",None,None)),\n",
    "    (\"x = 2  ;  # \", (\"x\",\"2\",None,None)),\n",
    "    (\"x = 'hello' ; range(2)   # some description  \", (\"x\", \"'hello'\", \"range(2)\", \"some description\")),\n",
    "    (\"x = 2 ;  [f(1),f(a),6,8]  \",                    (\"x\", \"2\", \"[f(1),f(a),6,8]\", None)),\n",
    "    (\"x = 'hello'    ; # some description  \",         (\"x\", \"'hello'\", None, \"some description\")),\n",
    "    (\"x = 'hello'   # some description  \",            (\"x\", \"'hello'\", None, \"some description\")),\n",
    "]   \n",
    "\n",
    "for line, expected in test_lines:\n",
    "    r = result_or_none(parse_xarg(line))\n",
    "    print(r)\n",
    "    if r is None: \n",
    "        assert r == expected\n",
    "        continue\n",
    "    assert (r[\"name\"], r[\"val\"], r[\"sweep\"], r[\"help\"]) == expected "
   ]
  },
  {
   "cell_type": "code",
   "execution_count": null,
   "metadata": {},
   "outputs": [],
   "source": [
    "print(parse_xarg(\"x = 2 ;  [f(1),f(a),6,8]  \"))\n",
    "print(parse_xarg(\"x = 'hello' ; range(2)   # some description  \"))\n",
    "print(parse_xarg(\"x = 'hello' ; # some description  \"))"
   ]
  },
  {
   "cell_type": "markdown",
   "metadata": {},
   "source": [
    "## Parsing a cell"
   ]
  },
  {
   "cell_type": "code",
   "execution_count": null,
   "metadata": {},
   "outputs": [],
   "source": [
    "#|export\n",
    "def parse_default(line):\n",
    "    return (line.rstrip(), \"\")"
   ]
  },
  {
   "cell_type": "code",
   "execution_count": null,
   "metadata": {},
   "outputs": [],
   "source": [
    "#|export \n",
    "def consume_line(tag, p = parse_default):\n",
    "    \"\"\"\n",
    "    Returns a parser that \n",
    "    consume a line and parses it.\n",
    "    \"\"\"\n",
    "    \n",
    "    def q(a, src):\n",
    "        if len(src) == 0: return a, []\n",
    "        line = src[0]\n",
    "        \n",
    "        b = result_or_none(p(line))\n",
    "        \n",
    "        a.append((tag, line, b))\n",
    "        return a, src[1:]\n",
    "    \n",
    "    return q"
   ]
  },
  {
   "cell_type": "code",
   "execution_count": null,
   "metadata": {},
   "outputs": [],
   "source": [
    "#|export \n",
    "def consume_block(tag, p = parse_default):\n",
    "    \"\"\"\n",
    "    Returns a parser that consume a block of lines \n",
    "    and parse them, till you hit an empty line, \n",
    "    a comment/tag, or the end.\n",
    "    \"\"\"\n",
    "    \n",
    "    def parse(a, src):\n",
    "        if len(src) == 0: return a, []\n",
    "        \n",
    "        line = src[0]\n",
    "        \n",
    "        # stopping conditions\n",
    "        if line.strip() == \"\": return a, src\n",
    "        if line.strip()[0] == \"#\":  return a, src\n",
    "        \n",
    "        # else consume line\n",
    "        b = result_or_none(p(line))        \n",
    "        a.append((tag, line, b))\n",
    "\n",
    "                 \n",
    "        return parse(a, src[1:])\n",
    "                 \n",
    "    return parse\n",
    "\n"
   ]
  },
  {
   "cell_type": "code",
   "execution_count": null,
   "metadata": {},
   "outputs": [],
   "source": [
    "#|export \n",
    "def ignore_first(p):\n",
    "    \"\"\"\n",
    "    Return a parser that ignores the first line and \n",
    "    starts parsing starting at the next.\n",
    "    \"\"\"\n",
    "    def q(a, src):\n",
    "        if len(src) <= 1: return a, []\n",
    "        else: return p(a, src[1:])\n",
    "    return q\n"
   ]
  },
  {
   "cell_type": "code",
   "execution_count": null,
   "metadata": {},
   "outputs": [],
   "source": [
    "#|export \n",
    "def consume_line_below(tag, p = parse_default):\n",
    "    return ignore_first(consume_line(tag, p=p))\n",
    "\n",
    "def consume_block_below(tag, p = parse_default):\n",
    "    return ignore_first(consume_block(tag, p=p))"
   ]
  },
  {
   "cell_type": "code",
   "execution_count": null,
   "metadata": {},
   "outputs": [],
   "source": [
    "#|export \n",
    "def parse_src(a:list, src:list, parser_dict: dict, parse_default=parse_default):\n",
    "    \"\"\"Parses a cell sources...\"\"\"\n",
    "    if len(src) == 0: return a, []\n",
    "    \n",
    "    line = src[0]\n",
    "    \n",
    "    tag = result_or_none(parse_any_tag(line))\n",
    "    \n",
    "    if tag is None or tag not in parser_dict:\n",
    "        b, _ = parse_default(line)\n",
    "        a.append((None, line, b))\n",
    "        rest = src[1:]\n",
    "    else:        \n",
    "        p = parser_dict[tag]\n",
    "        a, rest = p(a, src)\n",
    "\n",
    "    return parse_src(a, rest, parser_dict)"
   ]
  },
  {
   "cell_type": "code",
   "execution_count": null,
   "metadata": {},
   "outputs": [],
   "source": [
    "#|export \n",
    "PARSER_DICT = {\n",
    "    'nbx'       : consume_line('nbx'),\n",
    "    'nbx_meta'  : consume_line('nbx_meta', parse_nbx_meta),\n",
    "    'nbx_return': consume_line_below(\"nbx_return\"), \n",
    "    'xarg' : consume_block_below('xarg', parse_xarg),\n",
    "    'xargs': consume_block_below('xarg', parse_xarg),\n",
    "    'ximp' : consume_block_below('ximp'),\n",
    "    'ximps': consume_block_below('ximps')}\n",
    "\n",
    "def parse_cell(cell, parser_dict=PARSER_DICT):\n",
    "    src = listmap(lambda line: line.rstrip(), cell['source'])\n",
    "    a, _ = parse_src([], src, parser_dict)\n",
    "    return a"
   ]
  },
  {
   "cell_type": "code",
   "execution_count": null,
   "metadata": {},
   "outputs": [],
   "source": [
    "for i,cell in enumerate(nb.cells):    \n",
    "    print(f\"CELL {i: >2.0f} PARSED: ( type | line | result )\")\n",
    "    print(f\"----------------------------------------\")\n",
    "\n",
    "    a = parse_cell(cell)    \n",
    "    for tag, line, res in a:\n",
    "        t = f\"[{tag}]\"\n",
    "        dots = \" ...\\\"\" if len(line) > 25 else \"\\\"\"\n",
    "        print(f\"{t:<15s} | \\\"{line[:35]+dots:<40s} | {res}\")\n",
    "    print(\"\\n\")"
   ]
  },
  {
   "cell_type": "markdown",
   "metadata": {},
   "source": [
    "# Parsing the whole thing"
   ]
  },
  {
   "cell_type": "code",
   "execution_count": null,
   "metadata": {},
   "outputs": [],
   "source": [
    "#|export\n",
    "def is_none(x): return x is None\n",
    "def is_not_none(x): return x is not None\n",
    "def is_tagged(name):\n",
    "    return lambda line: is_not_none(parse_tag(name)(line))\n",
    "is_nbx = is_tagged(\"nbx\")"
   ]
  },
  {
   "cell_type": "code",
   "execution_count": null,
   "metadata": {},
   "outputs": [],
   "source": [
    "assert is_nbx(\"#nbx \" ) \n",
    "assert is_nbx(\"# nbx\" ) == False\n",
    "assert is_nbx(\" #nbx \") \n",
    "assert is_nbx(\"  #nbx\") "
   ]
  },
  {
   "cell_type": "code",
   "execution_count": null,
   "metadata": {},
   "outputs": [],
   "source": [
    "#|export \n",
    "def is_nbx_cell(cell):\n",
    "    if cell['cell_type'] != 'code': return False\n",
    "    if not cell['source']: return False\n",
    "    line0 = cell['source'][0]\n",
    "    return is_nbx(line0)"
   ]
  },
  {
   "cell_type": "code",
   "execution_count": null,
   "metadata": {},
   "outputs": [],
   "source": [
    "#|export\n",
    "magic_shell_rx =  re.compile(r\"^\\s*%{1,2}|^\\s*!\")\n",
    "\n",
    "def is_magic_or_shell(line):\n",
    "    \"\"\"Checks if line contains a jupyter \n",
    "    magic function or shell command\"\"\"\n",
    "    m = magic_shell_rx.match(line)\n",
    "    return m is not None"
   ]
  },
  {
   "cell_type": "code",
   "execution_count": null,
   "metadata": {},
   "outputs": [],
   "source": [
    "assert is_magic_or_shell(\"%pwd \")\n",
    "assert is_magic_or_shell(\"%%capture \")\n",
    "assert is_magic_or_shell(\"!ls\")"
   ]
  },
  {
   "cell_type": "code",
   "execution_count": null,
   "metadata": {},
   "outputs": [],
   "source": [
    "#|export\n",
    "from collections import defaultdict\n",
    "\n",
    "def move_to_front(arr, i):\n",
    "    return [arr[i]] + arr[:i] + arr[i+1:]\n",
    "    \n",
    "XARG_MISSING = \"\"\"\n",
    "        \n",
    "#xargs\n",
    "xtask = 0\n",
    "xdir  = './'\n",
    "\n",
    "\"\"\"\n",
    "\n",
    "def parse_nb(nb, parser_dict=PARSER_DICT):\n",
    "    \"\"\"Parses a notebook bunch\"\"\"\n",
    "    \n",
    "    # Parse all of the `nbx` cells\n",
    "    nbx_cells = filter(is_nbx_cell, nb.cells)\n",
    "    A = defaultdict(list)\n",
    "    for cell in nbx_cells:\n",
    "        a = parse_cell(cell, parser_dict=PARSER_DICT)\n",
    "\n",
    "        for t, line, b in a:\n",
    "            if t is None: t = 'func_body'\n",
    "            A[t].append(b)\n",
    "        \n",
    "    # Make sure xtask and xdir are present\n",
    "    argdict = {}\n",
    "    for i,x in enumerate(A[\"xarg\"]): argdict[x['name']] = i\n",
    "    if \"xdir\" not in argdict or \"xtask\" not in argdict:\n",
    "        raise NameError(\"YOU NEED TO ADD X-ARGS `xdir` and `xtask`(see below):...\"+XARG_MISSING)\n",
    "    move_to_front(A[\"xarg\"], argdict[\"xdir\"])\n",
    "    move_to_front(A[\"xarg\"], argdict[\"xtask\"])\n",
    "    \n",
    "    # Parameter sweeps\n",
    "    A[\"sweep\"]     = []\n",
    "    A[\"non_sweep\"] = []\n",
    "    for x in A[\"xarg\"]:\n",
    "        if x[\"sweep\"] is None: \n",
    "            A[\"non_sweep\"].append(x)\n",
    "        else: \n",
    "            A[\"sweep\"].append(x)\n",
    "            \n",
    "        \n",
    "    # Meta data  \n",
    "    if \"nbx_meta\" in A: A[\"nbx_meta\"] = A[\"nbx_meta\"][0]\n",
    "    else: A[\"nbx_meta\"] = {}\n",
    "    A[\"nbx_meta\"][\"nbname\"] = nb[\"fname\"]\n",
    "            \n",
    "    # Set the return value\n",
    "    if \"nbx_return\" in A:\n",
    "        A[\"nbx_return\"] = A[\"nbx_return\"][-1]\n",
    "\n",
    "    return Bunch(**A)"
   ]
  },
  {
   "cell_type": "code",
   "execution_count": null,
   "metadata": {},
   "outputs": [],
   "source": [
    "nb  = load_nb(\"nbx_example/test_notebook.ipynb\")\n",
    "pnb = parse_nb(nb)\n",
    "print(f\"Keys NB:\\n\\t{nb.keys()}\")\n",
    "print(f\"Keys Parsed NB:\\n\\t{pnb.keys()}\")\n",
    "print(f\"Keys nbx_meta:\\n\\t{pnb.nbx_meta.keys()}\")"
   ]
  },
  {
   "cell_type": "markdown",
   "metadata": {},
   "source": [
    "# Creating the nbx bundle"
   ]
  },
  {
   "cell_type": "code",
   "execution_count": null,
   "metadata": {},
   "outputs": [],
   "source": [
    "#|export\n",
    "from pathlib import PurePosixPath as Path\n",
    "import pkg_resources\n",
    "import importlib\n",
    "from cgnai.utils import cgnai_lib\n",
    "from cgnai.nbx.templ import *\n",
    "import os\n",
    "\n",
    "def add_if_necessary(d, k, v):\n",
    "    if k not in d:\n",
    "        d[k] = v\n",
    "        \n",
    "TEMPLATE_PATH = cgnai_lib()/\"nbx/templates/\"\n",
    "TEMPLATE_PATH "
   ]
  },
  {
   "cell_type": "code",
   "execution_count": null,
   "metadata": {},
   "outputs": [],
   "source": [
    "#|export \n",
    "def create_script(fname, tpl, vdict={}):\n",
    "    \"\"\"Create script from template and value dict\"\"\" \n",
    "    return create_file_from_template(TEMPLATE_PATH/tpl, fname, vdict)"
   ]
  },
  {
   "cell_type": "markdown",
   "metadata": {},
   "source": [
    "## `experiment.py`"
   ]
  },
  {
   "cell_type": "code",
   "execution_count": null,
   "metadata": {},
   "outputs": [],
   "source": [
    "#|export \n",
    "def create_experiment(pnb, fname=\"experiment.py\", tpl=\"experiment.tpl\"):\n",
    "    return create_script(fname, tpl, pnb)"
   ]
  },
  {
   "cell_type": "markdown",
   "metadata": {},
   "source": [
    "## `confspace.yaml`"
   ]
  },
  {
   "cell_type": "code",
   "execution_count": null,
   "metadata": {},
   "outputs": [],
   "source": [
    "#|export\n",
    "from cgnai.fileio import dump, load\n",
    "\n",
    "def create_confspace(pnb, fname=\"confspace.json\"):\n",
    "    meta = {\"nbname\": str(pnb[\"nbx_meta\"][\"nbname\"])}\n",
    "    C = dict(info=meta, src=dict(), default_src=dict())\n",
    "    default = {}\n",
    "    for x in pnb[\"xarg\"]:\n",
    "        key, val, sweep = x[\"name\"], x[\"val\"], x[\"sweep\"]\n",
    "        C[\"default_src\"][key] = val\n",
    "        if sweep is None: sweep = f\"[{val}]\"\n",
    "        C[\"src\"][key] = sweep\n",
    "    dump(C, str(fname))\n",
    "    \n",
    "    return C"
   ]
  },
  {
   "cell_type": "markdown",
   "metadata": {},
   "source": [
    "## `wrapper.py`"
   ]
  },
  {
   "cell_type": "code",
   "execution_count": null,
   "metadata": {},
   "outputs": [],
   "source": [
    "#|export    \n",
    "def create_wrapper(pnb, \n",
    "                   fname = \"wrapper.py\", \n",
    "                   xname = \"experiment.py\", \n",
    "                   confspace = \"confspace.json\", \n",
    "                   tpl = \"wrapper.tpl\"):\n",
    "    \n",
    "    stem = Path(xname).stem\n",
    "    return create_script(fname, tpl, \n",
    "                         vdict = dict(module=stem, confspace=confspace))"
   ]
  },
  {
   "cell_type": "markdown",
   "metadata": {},
   "source": [
    "## `runner.sh`"
   ]
  },
  {
   "cell_type": "code",
   "execution_count": null,
   "metadata": {},
   "outputs": [],
   "source": [
    "#|export\n",
    "def create_runner(fname=\"runner.sh\", wrapper=\"wrapper.py\", tpl=\"run.tpl\"):\n",
    "    return create_script(fname, tpl, vdict=dict(wrapper=wrapper))"
   ]
  },
  {
   "cell_type": "markdown",
   "metadata": {},
   "source": [
    "## `nbx_bundle/`"
   ]
  },
  {
   "cell_type": "code",
   "execution_count": null,
   "metadata": {},
   "outputs": [],
   "source": [
    "#|export\n",
    "# from distutils.dir_util import copytree\n",
    "import shutil\n",
    "from cgnai.utils import run_bash\n",
    "from importlib import import_module\n",
    "import sys\n",
    "\n",
    "def create_bundle(xdir, nbpath=None):\n",
    "    \"\"\"\n",
    "    Creates a nbx-bundle at the given directory\n",
    "    from a notebook.\n",
    "    \n",
    "    The notebook is either specified by its path, or \n",
    "    in case of \"None\" created from the notebook \n",
    "    the function is called from.\n",
    "    \"\"\"\n",
    "    \n",
    "    if not os.path.exists(xdir): os.makedirs(xdir)\n",
    "    if nbpath is None: nbpath = ipynbname.path()\n",
    "    xdir, nbpath = Path(xdir), Path(nbpath)\n",
    "    \n",
    "    pnb = parse_nb(load_nb(nbpath))\n",
    "\n",
    "    create_script(xdir/\"__init__.py\", \"init.tpl\", vdict={})\n",
    "    create_experiment(pnb, fname=xdir/\"experiment.py\", tpl=\"experiment.tpl\")\n",
    "    create_confspace( pnb, fname=xdir/\"confspace.json\")\n",
    "    create_wrapper(   pnb, fname=xdir/\"wrapper.py\", xname=\"experiment.py\", confspace=\"confspace.json\", tpl=\"wrapper.tpl\")\n",
    "    create_runner(fname=xdir/\"runner.sh\", wrapper=\"wrapper.py\", tpl=\"run.tpl\")\n",
    "    \n",
    "    # Btw: -B suppresses the creation of __pycache__\n",
    "    num_confs, = run_bash(f\"python -B {xdir/'wrapper.py'} info\")\n",
    "    num_confs = int(num_confs.strip())\n",
    "\n",
    "    \n",
    "    print(f\"Creating bundle:\\n\")\n",
    "    if \"src\" in pnb[\"nbx_meta\"]:\n",
    "        xsrc = pnb[\"nbx_meta\"][\"src\"]\n",
    "        if os.path.exists(nbpath.parent/xsrc): \n",
    "            print(f\"\\t{xdir/xsrc/'*'}\")  \n",
    "            \n",
    "            if os.path.exists(str(xdir/xsrc)): \n",
    "                shutil.rmtree(str(xdir/xsrc))    \n",
    "                \n",
    "            shutil.copytree(str(nbpath.parent/xsrc), str(xdir/xsrc))\n",
    "            \n",
    "            \n",
    "    print(f\"\\t{xdir/'experiment'}\")    \n",
    "    print(f\"\\t{xdir/'confspace.json'} (#confs = {num_confs})\")\n",
    "    print(f\"\\t{xdir/'wrapper.py'}\")\n",
    "    print(f\"\\t{xdir/'runner.sh'}\\n\")\n",
    "    \n"
   ]
  },
  {
   "cell_type": "code",
   "execution_count": null,
   "metadata": {},
   "outputs": [],
   "source": [
    "!rm -r nbx_example/_nbx\n",
    "create_bundle(\"nbx_example/_nbx\", \"nbx_example/test_notebook.ipynb\")\n",
    "!ls nbx_example/_nbx"
   ]
  },
  {
   "cell_type": "code",
   "execution_count": null,
   "metadata": {},
   "outputs": [],
   "source": []
  }
 ],
 "metadata": {
  "kernelspec": {
   "display_name": "Python 3",
   "language": "python",
   "name": "python3"
  }
 },
 "nbformat": 4,
 "nbformat_minor": 4
}
